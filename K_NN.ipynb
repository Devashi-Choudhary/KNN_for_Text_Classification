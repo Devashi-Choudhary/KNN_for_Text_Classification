{
 "cells": [
  {
   "cell_type": "markdown",
   "metadata": {},
   "source": [
    "# Preprocessing"
   ]
  },
  {
   "cell_type": "code",
   "execution_count": 120,
   "metadata": {},
   "outputs": [],
   "source": [
    "from nltk.tokenize import RegexpTokenizer\n",
    "from nltk.stem import WordNetLemmatizer\n",
    "wordnet_lemmatizer = WordNetLemmatizer()\n",
    "from nltk.corpus import stopwords\n",
    "from nltk.stem.porter import PorterStemmer\n",
    "porter_stemmer  = PorterStemmer()\n",
    "import re\n",
    "import inflect\n",
    "stop_words=set(stopwords.words('english'))\n",
    "def Pre_Processing(file):\n",
    "    token_files=[] \n",
    "    after_lower=[]\n",
    "    after_lemmatizer=[]\n",
    "    after_stemming=[]\n",
    "    tokenizer = RegexpTokenizer(r'\\w+')\n",
    "    tokens=(tokenizer.tokenize(file))\n",
    "#     p = inflect.engine()\n",
    "#     token_files=[]\n",
    "#     for i in range(len(tokens)):\n",
    "#         if tokens[i].isnumeric() and len(tokens[i])<36:\n",
    "#             tem=p.number_to_words((tokens[i]))\n",
    "#             tokenizer = RegexpTokenizer(r'\\w+')\n",
    "#             temp=(tokenizer.tokenize(tem))\n",
    "#             for x in temp:\n",
    "#                 token_files.append(x)\n",
    "#         elif tokens[i].isnumeric() and len(tokens[i])>36:\n",
    "#             for j in range(len(tokens[i])):\n",
    "#                 token_files.append(p.number_to_words((tokens[i][j])))\n",
    "#         else:\n",
    "#             token_files.append(tokens[i])\n",
    "    for i in range(len(tokens)):\n",
    "        after_lower.append(tokens[i].lower())\n",
    "    after_lower=[x for x in after_lower if x not in stop_words ]\n",
    "    for i in range(len(after_lower)):\n",
    "        after_lemmatizer.append(wordnet_lemmatizer.lemmatize(after_lower[i]))\n",
    "        #after_stemming.append(porter_stemmer.stem(after_lower[i]))\n",
    "    return after_lemmatizer"
   ]
  },
  {
   "cell_type": "markdown",
   "metadata": {},
   "source": [
    "# Train-Test Split"
   ]
  },
  {
   "cell_type": "code",
   "execution_count": 121,
   "metadata": {},
   "outputs": [],
   "source": [
    "import os\n",
    "import math\n",
    "import codecs\n",
    "TF_Dictionary={}\n",
    "Docid=[]\n",
    "Class_dict={}\n",
    "parent=\"C:/Users/Devashi Jain/Desktop/IIIT-D/Information Retrieval/Assignment4/Classes\"\n",
    "for file_name in os.listdir(os.path.join(parent)): \n",
    "    for file in os.listdir(os.path.join(parent,file_name)):\n",
    "        doc=file_name+'/'+file\n",
    "        if file_name in Class_dict:\n",
    "            Class_dict[file_name].append(doc)\n",
    "        else:\n",
    "            Class_dict[file_name]=[doc]\n",
    "        Docid.append(doc)"
   ]
  },
  {
   "cell_type": "code",
   "execution_count": 122,
   "metadata": {},
   "outputs": [],
   "source": [
    "train=[]\n",
    "test=[]\n",
    "# Class_dict=random.shuffle(Class_dict.values())\n",
    "for term in Class_dict:\n",
    "    train.append(Class_dict[term][:int((len(Class_dict[term])+1)*.50)])\n",
    "    test.append(Class_dict[term][int(len(Class_dict[term])*.50):])"
   ]
  },
  {
   "cell_type": "code",
   "execution_count": 123,
   "metadata": {},
   "outputs": [],
   "source": [
    "train_data=[]\n",
    "test_data=[]\n",
    "for i in range(len(train)):\n",
    "    for j in range(len(train[i])):\n",
    "        train_data.append(train[i][j])\n",
    "for i in range(len(test)):\n",
    "    for j in range(len(test[i])):\n",
    "        test_data.append(test[i][j])"
   ]
  },
  {
   "cell_type": "code",
   "execution_count": 124,
   "metadata": {},
   "outputs": [
    {
     "name": "stdout",
     "output_type": "stream",
     "text": [
      "0\n"
     ]
    }
   ],
   "source": [
    "c=0\n",
    "for i in range(len(train_data)):\n",
    "    for j in range(len(test_data)):\n",
    "        if(train_data[i]==test_data[j]):\n",
    "            c=c+1\n",
    "print(c)\n"
   ]
  },
  {
   "cell_type": "code",
   "execution_count": 125,
   "metadata": {},
   "outputs": [
    {
     "name": "stdout",
     "output_type": "stream",
     "text": [
      "2500\n",
      "2500\n"
     ]
    }
   ],
   "source": [
    "print(len(train_data))\n",
    "print(len(test_data))"
   ]
  },
  {
   "cell_type": "code",
   "execution_count": 126,
   "metadata": {},
   "outputs": [
    {
     "name": "stdout",
     "output_type": "stream",
     "text": [
      "['comp.graphics/37261', 'comp.graphics/37913', 'comp.graphics/37914', 'comp.graphics/37915', 'comp.graphics/37916', 'comp.graphics/37917', 'comp.graphics/37918', 'comp.graphics/37919', 'comp.graphics/37920', 'comp.graphics/37921', 'comp.graphics/37922', 'comp.graphics/37923', 'comp.graphics/37924', 'comp.graphics/37925', 'comp.graphics/37926', 'comp.graphics/37927', 'comp.graphics/37928', 'comp.graphics/37929', 'comp.graphics/37930', 'comp.graphics/37931', 'comp.graphics/37932', 'comp.graphics/37933', 'comp.graphics/37934', 'comp.graphics/37935', 'comp.graphics/37936', 'comp.graphics/37937', 'comp.graphics/37938', 'comp.graphics/37939', 'comp.graphics/37940', 'comp.graphics/37941', 'comp.graphics/37942', 'comp.graphics/37943', 'comp.graphics/37944', 'comp.graphics/37945', 'comp.graphics/37946', 'comp.graphics/37947', 'comp.graphics/37948', 'comp.graphics/37949', 'comp.graphics/37950', 'comp.graphics/37951', 'comp.graphics/37952', 'comp.graphics/37953', 'comp.graphics/37954', 'comp.graphics/37955', 'comp.graphics/37956', 'comp.graphics/37957', 'comp.graphics/37958', 'comp.graphics/37959', 'comp.graphics/37960', 'comp.graphics/37961', 'comp.graphics/37962', 'comp.graphics/37963', 'comp.graphics/38099', 'comp.graphics/38214', 'comp.graphics/38215', 'comp.graphics/38216', 'comp.graphics/38217', 'comp.graphics/38218', 'comp.graphics/38219', 'comp.graphics/38220', 'comp.graphics/38221', 'comp.graphics/38222', 'comp.graphics/38223', 'comp.graphics/38224', 'comp.graphics/38225', 'comp.graphics/38226', 'comp.graphics/38227', 'comp.graphics/38228', 'comp.graphics/38229', 'comp.graphics/38230', 'comp.graphics/38231', 'comp.graphics/38232', 'comp.graphics/38233', 'comp.graphics/38234', 'comp.graphics/38235', 'comp.graphics/38236', 'comp.graphics/38237', 'comp.graphics/38238', 'comp.graphics/38239', 'comp.graphics/38240', 'comp.graphics/38241', 'comp.graphics/38242', 'comp.graphics/38243', 'comp.graphics/38244', 'comp.graphics/38245', 'comp.graphics/38246', 'comp.graphics/38247', 'comp.graphics/38248', 'comp.graphics/38249', 'comp.graphics/38250', 'comp.graphics/38251', 'comp.graphics/38252', 'comp.graphics/38253', 'comp.graphics/38254', 'comp.graphics/38255', 'comp.graphics/38256', 'comp.graphics/38257', 'comp.graphics/38258', 'comp.graphics/38259', 'comp.graphics/38260', 'comp.graphics/38261', 'comp.graphics/38262', 'comp.graphics/38263', 'comp.graphics/38264', 'comp.graphics/38265', 'comp.graphics/38266', 'comp.graphics/38267', 'comp.graphics/38268', 'comp.graphics/38269', 'comp.graphics/38270', 'comp.graphics/38271', 'comp.graphics/38272', 'comp.graphics/38273', 'comp.graphics/38274', 'comp.graphics/38275', 'comp.graphics/38276', 'comp.graphics/38277', 'comp.graphics/38278', 'comp.graphics/38279', 'comp.graphics/38280', 'comp.graphics/38281', 'comp.graphics/38282', 'comp.graphics/38283', 'comp.graphics/38284', 'comp.graphics/38285', 'comp.graphics/38286', 'comp.graphics/38287', 'comp.graphics/38288', 'comp.graphics/38289', 'comp.graphics/38290', 'comp.graphics/38291', 'comp.graphics/38292', 'comp.graphics/38293', 'comp.graphics/38294', 'comp.graphics/38295', 'comp.graphics/38296', 'comp.graphics/38297', 'comp.graphics/38298', 'comp.graphics/38299', 'comp.graphics/38300', 'comp.graphics/38301', 'comp.graphics/38302', 'comp.graphics/38303', 'comp.graphics/38304', 'comp.graphics/38305', 'comp.graphics/38306', 'comp.graphics/38307', 'comp.graphics/38308', 'comp.graphics/38309', 'comp.graphics/38310', 'comp.graphics/38311', 'comp.graphics/38312', 'comp.graphics/38313', 'comp.graphics/38314', 'comp.graphics/38315', 'comp.graphics/38316', 'comp.graphics/38317', 'comp.graphics/38318', 'comp.graphics/38319', 'comp.graphics/38320', 'comp.graphics/38321', 'comp.graphics/38322', 'comp.graphics/38323', 'comp.graphics/38324', 'comp.graphics/38325', 'comp.graphics/38326', 'comp.graphics/38327', 'comp.graphics/38328', 'comp.graphics/38329', 'comp.graphics/38330', 'comp.graphics/38331', 'comp.graphics/38332', 'comp.graphics/38333', 'comp.graphics/38334', 'comp.graphics/38335', 'comp.graphics/38336', 'comp.graphics/38337', 'comp.graphics/38338', 'comp.graphics/38339', 'comp.graphics/38340', 'comp.graphics/38341', 'comp.graphics/38342', 'comp.graphics/38343', 'comp.graphics/38344', 'comp.graphics/38345', 'comp.graphics/38346', 'comp.graphics/38347', 'comp.graphics/38348', 'comp.graphics/38349', 'comp.graphics/38350', 'comp.graphics/38351', 'comp.graphics/38352', 'comp.graphics/38353', 'comp.graphics/38354', 'comp.graphics/38355', 'comp.graphics/38356', 'comp.graphics/38357', 'comp.graphics/38358', 'comp.graphics/38359', 'comp.graphics/38360', 'comp.graphics/38361', 'comp.graphics/38362', 'comp.graphics/38363', 'comp.graphics/38364', 'comp.graphics/38365', 'comp.graphics/38366', 'comp.graphics/38367', 'comp.graphics/38368', 'comp.graphics/38369', 'comp.graphics/38370', 'comp.graphics/38371', 'comp.graphics/38372', 'comp.graphics/38373', 'comp.graphics/38374', 'comp.graphics/38375', 'comp.graphics/38376', 'comp.graphics/38377', 'comp.graphics/38378', 'comp.graphics/38379', 'comp.graphics/38380', 'comp.graphics/38381', 'comp.graphics/38382', 'comp.graphics/38383', 'comp.graphics/38384', 'comp.graphics/38385', 'comp.graphics/38386', 'comp.graphics/38387', 'comp.graphics/38388', 'comp.graphics/38389', 'comp.graphics/38390', 'comp.graphics/38391', 'comp.graphics/38392', 'comp.graphics/38393', 'comp.graphics/38394', 'comp.graphics/38395', 'comp.graphics/38396', 'comp.graphics/38397', 'comp.graphics/38398', 'comp.graphics/38399', 'comp.graphics/38400', 'comp.graphics/38401', 'comp.graphics/38402', 'comp.graphics/38403', 'comp.graphics/38404', 'comp.graphics/38405', 'comp.graphics/38406', 'comp.graphics/38407', 'comp.graphics/38408', 'comp.graphics/38409', 'comp.graphics/38410', 'comp.graphics/38411', 'comp.graphics/38412', 'comp.graphics/38413', 'comp.graphics/38414', 'comp.graphics/38415', 'comp.graphics/38416', 'comp.graphics/38417', 'comp.graphics/38418', 'comp.graphics/38420', 'comp.graphics/38421', 'comp.graphics/38422', 'comp.graphics/38423', 'comp.graphics/38424', 'comp.graphics/38425', 'comp.graphics/38426', 'comp.graphics/38427', 'comp.graphics/38428', 'comp.graphics/38429', 'comp.graphics/38430', 'comp.graphics/38431', 'comp.graphics/38432', 'comp.graphics/38433', 'comp.graphics/38434', 'comp.graphics/38435', 'comp.graphics/38436', 'comp.graphics/38437', 'comp.graphics/38438', 'comp.graphics/38439', 'comp.graphics/38440', 'comp.graphics/38441', 'comp.graphics/38442', 'comp.graphics/38443', 'comp.graphics/38444', 'comp.graphics/38445', 'comp.graphics/38446', 'comp.graphics/38447', 'comp.graphics/38448', 'comp.graphics/38449', 'comp.graphics/38450', 'comp.graphics/38451', 'comp.graphics/38452', 'comp.graphics/38453', 'comp.graphics/38454', 'comp.graphics/38455', 'comp.graphics/38456', 'comp.graphics/38457', 'comp.graphics/38458', 'comp.graphics/38459', 'comp.graphics/38460', 'comp.graphics/38461', 'comp.graphics/38462', 'comp.graphics/38463', 'comp.graphics/38464', 'comp.graphics/38465', 'comp.graphics/38466', 'comp.graphics/38467', 'comp.graphics/38468', 'comp.graphics/38469', 'comp.graphics/38470', 'comp.graphics/38471', 'comp.graphics/38472', 'comp.graphics/38473', 'comp.graphics/38474', 'comp.graphics/38475', 'comp.graphics/38476', 'comp.graphics/38477', 'comp.graphics/38478', 'comp.graphics/38479', 'comp.graphics/38480', 'comp.graphics/38481', 'comp.graphics/38482', 'comp.graphics/38483', 'comp.graphics/38484', 'comp.graphics/38485', 'comp.graphics/38486', 'comp.graphics/38487', 'comp.graphics/38488', 'comp.graphics/38489', 'comp.graphics/38490', 'comp.graphics/38491', 'comp.graphics/38492', 'comp.graphics/38493', 'comp.graphics/38494', 'comp.graphics/38495', 'comp.graphics/38496', 'comp.graphics/38497', 'comp.graphics/38498', 'comp.graphics/38499', 'comp.graphics/38500', 'comp.graphics/38501', 'comp.graphics/38502', 'comp.graphics/38503', 'comp.graphics/38504', 'comp.graphics/38505', 'comp.graphics/38506', 'comp.graphics/38507', 'comp.graphics/38508', 'comp.graphics/38509', 'comp.graphics/38510', 'comp.graphics/38511', 'comp.graphics/38512', 'comp.graphics/38513', 'comp.graphics/38514', 'comp.graphics/38515', 'comp.graphics/38516', 'comp.graphics/38517', 'comp.graphics/38518', 'comp.graphics/38519', 'comp.graphics/38520', 'comp.graphics/38521', 'comp.graphics/38522', 'comp.graphics/38523', 'comp.graphics/38524', 'comp.graphics/38525', 'comp.graphics/38526', 'comp.graphics/38527', 'comp.graphics/38528', 'comp.graphics/38529', 'comp.graphics/38530', 'comp.graphics/38531', 'comp.graphics/38532', 'comp.graphics/38533', 'comp.graphics/38534', 'comp.graphics/38535', 'comp.graphics/38536', 'comp.graphics/38537', 'comp.graphics/38538', 'comp.graphics/38539', 'comp.graphics/38540', 'comp.graphics/38541', 'comp.graphics/38542', 'comp.graphics/38543', 'comp.graphics/38544', 'comp.graphics/38545', 'comp.graphics/38546', 'comp.graphics/38547', 'comp.graphics/38548', 'comp.graphics/38549', 'comp.graphics/38550', 'comp.graphics/38551', 'comp.graphics/38552', 'comp.graphics/38553', 'comp.graphics/38554', 'comp.graphics/38555', 'comp.graphics/38556', 'comp.graphics/38557', 'comp.graphics/38558', 'comp.graphics/38559', 'comp.graphics/38560', 'comp.graphics/38561', 'comp.graphics/38562', 'comp.graphics/38563', 'comp.graphics/38564', 'comp.graphics/38565', 'comp.graphics/38566', 'comp.graphics/38567', 'comp.graphics/38568', 'comp.graphics/38569', 'comp.graphics/38570', 'comp.graphics/38571', 'comp.graphics/38572', 'comp.graphics/38573', 'comp.graphics/38574', 'comp.graphics/38575', 'comp.graphics/38576', 'comp.graphics/38577', 'comp.graphics/38578', 'comp.graphics/38579', 'comp.graphics/38580', 'comp.graphics/38581', 'comp.graphics/38582', 'comp.graphics/38583', 'comp.graphics/38584', 'comp.graphics/38585', 'comp.graphics/38586', 'comp.graphics/38587', 'comp.graphics/38588', 'comp.graphics/38589', 'comp.graphics/38590', 'comp.graphics/38591', 'comp.graphics/38592', 'comp.graphics/38593', 'comp.graphics/38594', 'comp.graphics/38595', 'comp.graphics/38596', 'comp.graphics/38597', 'comp.graphics/38598', 'comp.graphics/38599', 'comp.graphics/38600', 'comp.graphics/38601', 'comp.graphics/38602', 'comp.graphics/38603', 'comp.graphics/38604', 'comp.graphics/38605', 'comp.graphics/38606', 'comp.graphics/38607', 'comp.graphics/38608', 'comp.graphics/38609', 'comp.graphics/38610', 'comp.graphics/38611', 'comp.graphics/38612', 'comp.graphics/38613', 'comp.graphics/38614', 'comp.graphics/38615', 'comp.graphics/38616', 'comp.graphics/38617', 'comp.graphics/38618', 'comp.graphics/38619', 'comp.graphics/38620', 'comp.graphics/38621', 'comp.graphics/38622', 'comp.graphics/38623', 'comp.graphics/38624', 'comp.graphics/38625', 'comp.graphics/38626', 'comp.graphics/38627', 'comp.graphics/38628', 'comp.graphics/38629', 'comp.graphics/38630', 'comp.graphics/38631', 'comp.graphics/38632', 'comp.graphics/38633', 'comp.graphics/38634', 'comp.graphics/38635', 'comp.graphics/38636', 'comp.graphics/38637', 'comp.graphics/38638', 'comp.graphics/38639', 'comp.graphics/38640', 'comp.graphics/38641', 'comp.graphics/38642', 'comp.graphics/38643', 'comp.graphics/38644', 'comp.graphics/38645', 'comp.graphics/38646', 'comp.graphics/38647', 'comp.graphics/38648', 'comp.graphics/38649', 'comp.graphics/38650', 'comp.graphics/38651', 'comp.graphics/38652', 'comp.graphics/38653', 'comp.graphics/38654', 'comp.graphics/38655', 'comp.graphics/38656', 'comp.graphics/38657', 'comp.graphics/38658', 'comp.graphics/38659', 'comp.graphics/38660', 'comp.graphics/38661', 'rec.sport.hockey/52550', 'rec.sport.hockey/52551', 'rec.sport.hockey/52552', 'rec.sport.hockey/52553', 'rec.sport.hockey/52554', 'rec.sport.hockey/52555', 'rec.sport.hockey/52556', 'rec.sport.hockey/52557', 'rec.sport.hockey/52558', 'rec.sport.hockey/52559', 'rec.sport.hockey/52560', 'rec.sport.hockey/52561', 'rec.sport.hockey/52562', 'rec.sport.hockey/52563', 'rec.sport.hockey/52564', 'rec.sport.hockey/52565', 'rec.sport.hockey/52566', 'rec.sport.hockey/52567', 'rec.sport.hockey/52568', 'rec.sport.hockey/52569', 'rec.sport.hockey/52570', 'rec.sport.hockey/52571', 'rec.sport.hockey/52572', 'rec.sport.hockey/52573', 'rec.sport.hockey/52574', 'rec.sport.hockey/52575', 'rec.sport.hockey/52576', 'rec.sport.hockey/52577', 'rec.sport.hockey/52578', 'rec.sport.hockey/52579', 'rec.sport.hockey/52580', 'rec.sport.hockey/52581', 'rec.sport.hockey/52582', 'rec.sport.hockey/52583', 'rec.sport.hockey/52584', 'rec.sport.hockey/52585', 'rec.sport.hockey/52586', 'rec.sport.hockey/52587', 'rec.sport.hockey/52588', 'rec.sport.hockey/52589', 'rec.sport.hockey/52590', 'rec.sport.hockey/52591', 'rec.sport.hockey/52592', 'rec.sport.hockey/52593', 'rec.sport.hockey/52594', 'rec.sport.hockey/52595', 'rec.sport.hockey/52596', 'rec.sport.hockey/52597', 'rec.sport.hockey/52598', 'rec.sport.hockey/52599', 'rec.sport.hockey/52600', 'rec.sport.hockey/52601', 'rec.sport.hockey/52602', 'rec.sport.hockey/52603', 'rec.sport.hockey/52604', 'rec.sport.hockey/52605', 'rec.sport.hockey/52606', 'rec.sport.hockey/52607', 'rec.sport.hockey/52608', 'rec.sport.hockey/52609', 'rec.sport.hockey/52610', 'rec.sport.hockey/52611', 'rec.sport.hockey/52612', 'rec.sport.hockey/52613', 'rec.sport.hockey/52614', 'rec.sport.hockey/52615', 'rec.sport.hockey/52616', 'rec.sport.hockey/52617', 'rec.sport.hockey/52618', 'rec.sport.hockey/52619', 'rec.sport.hockey/52620', 'rec.sport.hockey/52621', 'rec.sport.hockey/52622', 'rec.sport.hockey/52623', 'rec.sport.hockey/52624', 'rec.sport.hockey/52625', 'rec.sport.hockey/52626', 'rec.sport.hockey/52627', 'rec.sport.hockey/52628', 'rec.sport.hockey/52629', 'rec.sport.hockey/52630', 'rec.sport.hockey/52631', 'rec.sport.hockey/52632', 'rec.sport.hockey/52633', 'rec.sport.hockey/52634', 'rec.sport.hockey/52635', 'rec.sport.hockey/52636', 'rec.sport.hockey/52637', 'rec.sport.hockey/52638', 'rec.sport.hockey/52639', 'rec.sport.hockey/52640', 'rec.sport.hockey/52641', 'rec.sport.hockey/52642', 'rec.sport.hockey/52643', 'rec.sport.hockey/52644', 'rec.sport.hockey/52645', 'rec.sport.hockey/52646', 'rec.sport.hockey/52647', 'rec.sport.hockey/52648', 'rec.sport.hockey/52649', 'rec.sport.hockey/52650', 'rec.sport.hockey/52651', 'rec.sport.hockey/52652', 'rec.sport.hockey/52653', 'rec.sport.hockey/52654', 'rec.sport.hockey/52655', 'rec.sport.hockey/52656', 'rec.sport.hockey/52657', 'rec.sport.hockey/52658', 'rec.sport.hockey/52659', 'rec.sport.hockey/52660', 'rec.sport.hockey/52661', 'rec.sport.hockey/52662', 'rec.sport.hockey/52663', 'rec.sport.hockey/52664', 'rec.sport.hockey/52665', 'rec.sport.hockey/52666', 'rec.sport.hockey/52667', 'rec.sport.hockey/52668', 'rec.sport.hockey/52669', 'rec.sport.hockey/53468', 'rec.sport.hockey/53521', 'rec.sport.hockey/53522', 'rec.sport.hockey/53523', 'rec.sport.hockey/53524', 'rec.sport.hockey/53525', 'rec.sport.hockey/53526', 'rec.sport.hockey/53527', 'rec.sport.hockey/53528', 'rec.sport.hockey/53529', 'rec.sport.hockey/53530', 'rec.sport.hockey/53531', 'rec.sport.hockey/53532', 'rec.sport.hockey/53533', 'rec.sport.hockey/53534', 'rec.sport.hockey/53535', 'rec.sport.hockey/53536', 'rec.sport.hockey/53537', 'rec.sport.hockey/53538', 'rec.sport.hockey/53539', 'rec.sport.hockey/53540', 'rec.sport.hockey/53541', 'rec.sport.hockey/53542', 'rec.sport.hockey/53543', 'rec.sport.hockey/53544', 'rec.sport.hockey/53545', 'rec.sport.hockey/53546', 'rec.sport.hockey/53547', 'rec.sport.hockey/53548', 'rec.sport.hockey/53549', 'rec.sport.hockey/53550', 'rec.sport.hockey/53551', 'rec.sport.hockey/53552', 'rec.sport.hockey/53553', 'rec.sport.hockey/53554', 'rec.sport.hockey/53555', 'rec.sport.hockey/53556', 'rec.sport.hockey/53557', 'rec.sport.hockey/53558', 'rec.sport.hockey/53559', 'rec.sport.hockey/53560', 'rec.sport.hockey/53561', 'rec.sport.hockey/53562', 'rec.sport.hockey/53563', 'rec.sport.hockey/53564', 'rec.sport.hockey/53565', 'rec.sport.hockey/53566', 'rec.sport.hockey/53567', 'rec.sport.hockey/53568', 'rec.sport.hockey/53569', 'rec.sport.hockey/53570', 'rec.sport.hockey/53571', 'rec.sport.hockey/53572', 'rec.sport.hockey/53573', 'rec.sport.hockey/53574', 'rec.sport.hockey/53575', 'rec.sport.hockey/53576', 'rec.sport.hockey/53577', 'rec.sport.hockey/53578', 'rec.sport.hockey/53579', 'rec.sport.hockey/53580', 'rec.sport.hockey/53581', 'rec.sport.hockey/53582', 'rec.sport.hockey/53583', 'rec.sport.hockey/53584', 'rec.sport.hockey/53585', 'rec.sport.hockey/53586', 'rec.sport.hockey/53587', 'rec.sport.hockey/53588', 'rec.sport.hockey/53589', 'rec.sport.hockey/53590', 'rec.sport.hockey/53591', 'rec.sport.hockey/53592', 'rec.sport.hockey/53593', 'rec.sport.hockey/53594', 'rec.sport.hockey/53595', 'rec.sport.hockey/53596', 'rec.sport.hockey/53597', 'rec.sport.hockey/53598', 'rec.sport.hockey/53599', 'rec.sport.hockey/53600', 'rec.sport.hockey/53601', 'rec.sport.hockey/53602', 'rec.sport.hockey/53603', 'rec.sport.hockey/53604', 'rec.sport.hockey/53605', 'rec.sport.hockey/53606', 'rec.sport.hockey/53607', 'rec.sport.hockey/53608', 'rec.sport.hockey/53609', 'rec.sport.hockey/53610', 'rec.sport.hockey/53611', 'rec.sport.hockey/53612', 'rec.sport.hockey/53613', 'rec.sport.hockey/53614', 'rec.sport.hockey/53615', 'rec.sport.hockey/53616', 'rec.sport.hockey/53617', 'rec.sport.hockey/53618', 'rec.sport.hockey/53619', 'rec.sport.hockey/53620', 'rec.sport.hockey/53621', 'rec.sport.hockey/53622', 'rec.sport.hockey/53623', 'rec.sport.hockey/53624', 'rec.sport.hockey/53625', 'rec.sport.hockey/53626', 'rec.sport.hockey/53627', 'rec.sport.hockey/53628', 'rec.sport.hockey/53629', 'rec.sport.hockey/53630', 'rec.sport.hockey/53631', 'rec.sport.hockey/53632', 'rec.sport.hockey/53633', 'rec.sport.hockey/53634', 'rec.sport.hockey/53635', 'rec.sport.hockey/53636', 'rec.sport.hockey/53637', 'rec.sport.hockey/53638', 'rec.sport.hockey/53639', 'rec.sport.hockey/53640', 'rec.sport.hockey/53641', 'rec.sport.hockey/53642', 'rec.sport.hockey/53643', 'rec.sport.hockey/53644', 'rec.sport.hockey/53645', 'rec.sport.hockey/53646', 'rec.sport.hockey/53647', 'rec.sport.hockey/53648', 'rec.sport.hockey/53649', 'rec.sport.hockey/53650', 'rec.sport.hockey/53651', 'rec.sport.hockey/53652', 'rec.sport.hockey/53653', 'rec.sport.hockey/53654', 'rec.sport.hockey/53655', 'rec.sport.hockey/53656', 'rec.sport.hockey/53657', 'rec.sport.hockey/53658', 'rec.sport.hockey/53659', 'rec.sport.hockey/53660', 'rec.sport.hockey/53661', 'rec.sport.hockey/53662', 'rec.sport.hockey/53663', 'rec.sport.hockey/53664', 'rec.sport.hockey/53665', 'rec.sport.hockey/53666', 'rec.sport.hockey/53667', 'rec.sport.hockey/53668', 'rec.sport.hockey/53669', 'rec.sport.hockey/53670', 'rec.sport.hockey/53671', 'rec.sport.hockey/53672', 'rec.sport.hockey/53673', 'rec.sport.hockey/53674', 'rec.sport.hockey/53675', 'rec.sport.hockey/53676', 'rec.sport.hockey/53677', 'rec.sport.hockey/53678', 'rec.sport.hockey/53679', 'rec.sport.hockey/53680', 'rec.sport.hockey/53681', 'rec.sport.hockey/53682', 'rec.sport.hockey/53683', 'rec.sport.hockey/53684', 'rec.sport.hockey/53685', 'rec.sport.hockey/53686', 'rec.sport.hockey/53687', 'rec.sport.hockey/53688', 'rec.sport.hockey/53689', 'rec.sport.hockey/53690', 'rec.sport.hockey/53691', 'rec.sport.hockey/53692', 'rec.sport.hockey/53693', 'rec.sport.hockey/53694', 'rec.sport.hockey/53695', 'rec.sport.hockey/53696', 'rec.sport.hockey/53697', 'rec.sport.hockey/53698', 'rec.sport.hockey/53699', 'rec.sport.hockey/53700', 'rec.sport.hockey/53701', 'rec.sport.hockey/53702', 'rec.sport.hockey/53703', 'rec.sport.hockey/53704', 'rec.sport.hockey/53705', 'rec.sport.hockey/53706', 'rec.sport.hockey/53707', 'rec.sport.hockey/53708', 'rec.sport.hockey/53709', 'rec.sport.hockey/53710', 'rec.sport.hockey/53711', 'rec.sport.hockey/53712', 'rec.sport.hockey/53713', 'rec.sport.hockey/53714', 'rec.sport.hockey/53715', 'rec.sport.hockey/53716', 'rec.sport.hockey/53717', 'rec.sport.hockey/53718', 'rec.sport.hockey/53719', 'rec.sport.hockey/53720', 'rec.sport.hockey/53721', 'rec.sport.hockey/53722', 'rec.sport.hockey/53723', 'rec.sport.hockey/53724', 'rec.sport.hockey/53725', 'rec.sport.hockey/53726', 'rec.sport.hockey/53727', 'rec.sport.hockey/53728', 'rec.sport.hockey/53729', 'rec.sport.hockey/53730', 'rec.sport.hockey/53731', 'rec.sport.hockey/53732', 'rec.sport.hockey/53733', 'rec.sport.hockey/53734', 'rec.sport.hockey/53735', 'rec.sport.hockey/53736', 'rec.sport.hockey/53737', 'rec.sport.hockey/53738', 'rec.sport.hockey/53739', 'rec.sport.hockey/53740', 'rec.sport.hockey/53741', 'rec.sport.hockey/53742', 'rec.sport.hockey/53743', 'rec.sport.hockey/53744', 'rec.sport.hockey/53745', 'rec.sport.hockey/53746', 'rec.sport.hockey/53747', 'rec.sport.hockey/53748', 'rec.sport.hockey/53749', 'rec.sport.hockey/53750', 'rec.sport.hockey/53751', 'rec.sport.hockey/53752', 'rec.sport.hockey/53753', 'rec.sport.hockey/53754', 'rec.sport.hockey/53755', 'rec.sport.hockey/53756', 'rec.sport.hockey/53757', 'rec.sport.hockey/53758', 'rec.sport.hockey/53759', 'rec.sport.hockey/53760', 'rec.sport.hockey/53761', 'rec.sport.hockey/53762', 'rec.sport.hockey/53763', 'rec.sport.hockey/53764', 'rec.sport.hockey/53765', 'rec.sport.hockey/53766', 'rec.sport.hockey/53767', 'rec.sport.hockey/53768', 'rec.sport.hockey/53769', 'rec.sport.hockey/53770', 'rec.sport.hockey/53771', 'rec.sport.hockey/53772', 'rec.sport.hockey/53773', 'rec.sport.hockey/53774', 'rec.sport.hockey/53775', 'rec.sport.hockey/53776', 'rec.sport.hockey/53777', 'rec.sport.hockey/53778', 'rec.sport.hockey/53779', 'rec.sport.hockey/53780', 'rec.sport.hockey/53781', 'rec.sport.hockey/53782', 'rec.sport.hockey/53783', 'rec.sport.hockey/53784', 'rec.sport.hockey/53785', 'rec.sport.hockey/53786', 'rec.sport.hockey/53787', 'rec.sport.hockey/53788', 'rec.sport.hockey/53789', 'rec.sport.hockey/53790', 'rec.sport.hockey/53791', 'rec.sport.hockey/53792', 'rec.sport.hockey/53793', 'rec.sport.hockey/53794', 'rec.sport.hockey/53795', 'rec.sport.hockey/53796', 'rec.sport.hockey/53797', 'rec.sport.hockey/53798', 'rec.sport.hockey/53799', 'rec.sport.hockey/53800', 'rec.sport.hockey/53801', 'rec.sport.hockey/53802', 'rec.sport.hockey/53803', 'rec.sport.hockey/53804', 'rec.sport.hockey/53805', 'rec.sport.hockey/53806', 'rec.sport.hockey/53807', 'rec.sport.hockey/53808', 'rec.sport.hockey/53809', 'rec.sport.hockey/53810', 'rec.sport.hockey/53811', 'rec.sport.hockey/53812', 'rec.sport.hockey/53813', 'rec.sport.hockey/53814', 'rec.sport.hockey/53815', 'rec.sport.hockey/53816', 'rec.sport.hockey/53817', 'rec.sport.hockey/53818', 'rec.sport.hockey/53819', 'rec.sport.hockey/53820', 'rec.sport.hockey/53821', 'rec.sport.hockey/53822', 'rec.sport.hockey/53823', 'rec.sport.hockey/53824', 'rec.sport.hockey/53825', 'rec.sport.hockey/53826', 'rec.sport.hockey/53827', 'rec.sport.hockey/53828', 'rec.sport.hockey/53829', 'rec.sport.hockey/53830', 'rec.sport.hockey/53831', 'rec.sport.hockey/53832', 'rec.sport.hockey/53833', 'rec.sport.hockey/53834', 'rec.sport.hockey/53835', 'rec.sport.hockey/53836', 'rec.sport.hockey/53837', 'rec.sport.hockey/53838', 'rec.sport.hockey/53839', 'rec.sport.hockey/53840', 'rec.sport.hockey/53841', 'rec.sport.hockey/53842', 'rec.sport.hockey/53843', 'rec.sport.hockey/53844', 'rec.sport.hockey/53845', 'rec.sport.hockey/53846', 'rec.sport.hockey/53847', 'rec.sport.hockey/53848', 'rec.sport.hockey/53849', 'rec.sport.hockey/53850', 'rec.sport.hockey/53851', 'rec.sport.hockey/53852', 'rec.sport.hockey/53853', 'rec.sport.hockey/53854', 'rec.sport.hockey/53855', 'rec.sport.hockey/53856', 'rec.sport.hockey/53857', 'rec.sport.hockey/53858', 'rec.sport.hockey/53859', 'rec.sport.hockey/53860', 'rec.sport.hockey/53861', 'rec.sport.hockey/53862', 'rec.sport.hockey/53863', 'rec.sport.hockey/53864', 'rec.sport.hockey/53865', 'rec.sport.hockey/53866', 'rec.sport.hockey/53867', 'rec.sport.hockey/53868', 'rec.sport.hockey/53869', 'rec.sport.hockey/53870', 'rec.sport.hockey/53871', 'rec.sport.hockey/53872', 'rec.sport.hockey/53873', 'rec.sport.hockey/53874', 'rec.sport.hockey/53875', 'rec.sport.hockey/53876', 'rec.sport.hockey/53877', 'rec.sport.hockey/53878', 'rec.sport.hockey/53879', 'rec.sport.hockey/53880', 'rec.sport.hockey/53881', 'rec.sport.hockey/53882', 'rec.sport.hockey/53883', 'rec.sport.hockey/53884', 'rec.sport.hockey/53885', 'rec.sport.hockey/53886', 'rec.sport.hockey/53887', 'rec.sport.hockey/53888', 'rec.sport.hockey/53889', 'rec.sport.hockey/53890', 'rec.sport.hockey/53891', 'rec.sport.hockey/53892', 'rec.sport.hockey/53893', 'rec.sport.hockey/53894', 'rec.sport.hockey/53895', 'rec.sport.hockey/53896', 'rec.sport.hockey/53897', 'rec.sport.hockey/53898', 'rec.sport.hockey/53899', 'sci.med/57110', 'sci.med/58043', 'sci.med/58044', 'sci.med/58045', 'sci.med/58046', 'sci.med/58047', 'sci.med/58048', 'sci.med/58049', 'sci.med/58050', 'sci.med/58051', 'sci.med/58052', 'sci.med/58053', 'sci.med/58054', 'sci.med/58055', 'sci.med/58056', 'sci.med/58057', 'sci.med/58058', 'sci.med/58059', 'sci.med/58060', 'sci.med/58061', 'sci.med/58062', 'sci.med/58063', 'sci.med/58064', 'sci.med/58065', 'sci.med/58066', 'sci.med/58067', 'sci.med/58068', 'sci.med/58069', 'sci.med/58070', 'sci.med/58071', 'sci.med/58072', 'sci.med/58073', 'sci.med/58074', 'sci.med/58075', 'sci.med/58076', 'sci.med/58077', 'sci.med/58078', 'sci.med/58079', 'sci.med/58080', 'sci.med/58081', 'sci.med/58082', 'sci.med/58083', 'sci.med/58084', 'sci.med/58085', 'sci.med/58086', 'sci.med/58087', 'sci.med/58088', 'sci.med/58089', 'sci.med/58090', 'sci.med/58091', 'sci.med/58092', 'sci.med/58093', 'sci.med/58094', 'sci.med/58095', 'sci.med/58096', 'sci.med/58097', 'sci.med/58098', 'sci.med/58099', 'sci.med/58100', 'sci.med/58101', 'sci.med/58102', 'sci.med/58103', 'sci.med/58104', 'sci.med/58105', 'sci.med/58106', 'sci.med/58107', 'sci.med/58108', 'sci.med/58109', 'sci.med/58110', 'sci.med/58111', 'sci.med/58112', 'sci.med/58113', 'sci.med/58114', 'sci.med/58115', 'sci.med/58116', 'sci.med/58117', 'sci.med/58118', 'sci.med/58119', 'sci.med/58120', 'sci.med/58121', 'sci.med/58122', 'sci.med/58123', 'sci.med/58124', 'sci.med/58125', 'sci.med/58126', 'sci.med/58127', 'sci.med/58128', 'sci.med/58129', 'sci.med/58130', 'sci.med/58131', 'sci.med/58132', 'sci.med/58133', 'sci.med/58134', 'sci.med/58135', 'sci.med/58136', 'sci.med/58137', 'sci.med/58138', 'sci.med/58139', 'sci.med/58140', 'sci.med/58141', 'sci.med/58142', 'sci.med/58143', 'sci.med/58144', 'sci.med/58145', 'sci.med/58146', 'sci.med/58147', 'sci.med/58148', 'sci.med/58149', 'sci.med/58150', 'sci.med/58151', 'sci.med/58152', 'sci.med/58153', 'sci.med/58154', 'sci.med/58155', 'sci.med/58568', 'sci.med/58569', 'sci.med/58570', 'sci.med/58577', 'sci.med/58578', 'sci.med/58719', 'sci.med/58758', 'sci.med/58759', 'sci.med/58760', 'sci.med/58761', 'sci.med/58762', 'sci.med/58763', 'sci.med/58764', 'sci.med/58765', 'sci.med/58766', 'sci.med/58767', 'sci.med/58768', 'sci.med/58769', 'sci.med/58770', 'sci.med/58771', 'sci.med/58772', 'sci.med/58773', 'sci.med/58774', 'sci.med/58775', 'sci.med/58776', 'sci.med/58777', 'sci.med/58778', 'sci.med/58779', 'sci.med/58780', 'sci.med/58781', 'sci.med/58782', 'sci.med/58783', 'sci.med/58784', 'sci.med/58785', 'sci.med/58786', 'sci.med/58787', 'sci.med/58788', 'sci.med/58789', 'sci.med/58790', 'sci.med/58791', 'sci.med/58792', 'sci.med/58793', 'sci.med/58794', 'sci.med/58795', 'sci.med/58796', 'sci.med/58797', 'sci.med/58798', 'sci.med/58799', 'sci.med/58800', 'sci.med/58801', 'sci.med/58802', 'sci.med/58803', 'sci.med/58804', 'sci.med/58805', 'sci.med/58806', 'sci.med/58807', 'sci.med/58808', 'sci.med/58809', 'sci.med/58810', 'sci.med/58811', 'sci.med/58812', 'sci.med/58813', 'sci.med/58814', 'sci.med/58815', 'sci.med/58816', 'sci.med/58817', 'sci.med/58818', 'sci.med/58819', 'sci.med/58820', 'sci.med/58821', 'sci.med/58822', 'sci.med/58823', 'sci.med/58824', 'sci.med/58825', 'sci.med/58826', 'sci.med/58827', 'sci.med/58828', 'sci.med/58829', 'sci.med/58830', 'sci.med/58831', 'sci.med/58832', 'sci.med/58833', 'sci.med/58834', 'sci.med/58835', 'sci.med/58836', 'sci.med/58837', 'sci.med/58838', 'sci.med/58839', 'sci.med/58840', 'sci.med/58841', 'sci.med/58842', 'sci.med/58843', 'sci.med/58844', 'sci.med/58845', 'sci.med/58846', 'sci.med/58847', 'sci.med/58848', 'sci.med/58849', 'sci.med/58850', 'sci.med/58851', 'sci.med/58852', 'sci.med/58853', 'sci.med/58854', 'sci.med/58855', 'sci.med/58856', 'sci.med/58857', 'sci.med/58858', 'sci.med/58859', 'sci.med/58860', 'sci.med/58861', 'sci.med/58862', 'sci.med/58863', 'sci.med/58864', 'sci.med/58865', 'sci.med/58866', 'sci.med/58867', 'sci.med/58868', 'sci.med/58869', 'sci.med/58870', 'sci.med/58871', 'sci.med/58872', 'sci.med/58873', 'sci.med/58874', 'sci.med/58875', 'sci.med/58876', 'sci.med/58877', 'sci.med/58878', 'sci.med/58879', 'sci.med/58880', 'sci.med/58881', 'sci.med/58882', 'sci.med/58883', 'sci.med/58884', 'sci.med/58885', 'sci.med/58886', 'sci.med/58887', 'sci.med/58888', 'sci.med/58889', 'sci.med/58890', 'sci.med/58891', 'sci.med/58892', 'sci.med/58893', 'sci.med/58894', 'sci.med/58895', 'sci.med/58896', 'sci.med/58897', 'sci.med/58898', 'sci.med/58899', 'sci.med/58900', 'sci.med/58901', 'sci.med/58902', 'sci.med/58903', 'sci.med/58904', 'sci.med/58905', 'sci.med/58906', 'sci.med/58907', 'sci.med/58908', 'sci.med/58909', 'sci.med/58910', 'sci.med/58911', 'sci.med/58912', 'sci.med/58913', 'sci.med/58914', 'sci.med/58915', 'sci.med/58916', 'sci.med/58917', 'sci.med/58918', 'sci.med/58919', 'sci.med/58920', 'sci.med/58921', 'sci.med/58922', 'sci.med/58923', 'sci.med/58924', 'sci.med/58925', 'sci.med/58926', 'sci.med/58927', 'sci.med/58928', 'sci.med/58929', 'sci.med/58930', 'sci.med/58931', 'sci.med/58932', 'sci.med/58933', 'sci.med/58934', 'sci.med/58935', 'sci.med/58936', 'sci.med/58937', 'sci.med/58938', 'sci.med/58939', 'sci.med/58940', 'sci.med/58941', 'sci.med/58942', 'sci.med/58943', 'sci.med/58944', 'sci.med/58945', 'sci.med/58946', 'sci.med/58947', 'sci.med/58948', 'sci.med/58949', 'sci.med/58950', 'sci.med/58951', 'sci.med/58952', 'sci.med/58953', 'sci.med/58954', 'sci.med/58955', 'sci.med/58956', 'sci.med/58957', 'sci.med/58958', 'sci.med/58959', 'sci.med/58960', 'sci.med/58961', 'sci.med/58962', 'sci.med/58963', 'sci.med/58964', 'sci.med/58965', 'sci.med/58966', 'sci.med/58967', 'sci.med/58968', 'sci.med/58969', 'sci.med/58970', 'sci.med/58971', 'sci.med/58972', 'sci.med/58973', 'sci.med/58974', 'sci.med/58975', 'sci.med/58976', 'sci.med/58977', 'sci.med/58978', 'sci.med/58979', 'sci.med/58980', 'sci.med/58981', 'sci.med/58982', 'sci.med/58983', 'sci.med/58984', 'sci.med/58985', 'sci.med/58986', 'sci.med/58987', 'sci.med/58988', 'sci.med/58989', 'sci.med/58990', 'sci.med/58991', 'sci.med/58992', 'sci.med/58993', 'sci.med/58994', 'sci.med/58995', 'sci.med/58996', 'sci.med/58997', 'sci.med/58998', 'sci.med/58999', 'sci.med/59000', 'sci.med/59001', 'sci.med/59002', 'sci.med/59003', 'sci.med/59004', 'sci.med/59006', 'sci.med/59007', 'sci.med/59008', 'sci.med/59009', 'sci.med/59010', 'sci.med/59011', 'sci.med/59012', 'sci.med/59013', 'sci.med/59014', 'sci.med/59015', 'sci.med/59016', 'sci.med/59017', 'sci.med/59018', 'sci.med/59019', 'sci.med/59020', 'sci.med/59021', 'sci.med/59022', 'sci.med/59023', 'sci.med/59024', 'sci.med/59025', 'sci.med/59026', 'sci.med/59027', 'sci.med/59028', 'sci.med/59029', 'sci.med/59030', 'sci.med/59031', 'sci.med/59032', 'sci.med/59033', 'sci.med/59034', 'sci.med/59035', 'sci.med/59036', 'sci.med/59037', 'sci.med/59038', 'sci.med/59039', 'sci.med/59040', 'sci.med/59041', 'sci.med/59042', 'sci.med/59043', 'sci.med/59044', 'sci.med/59045', 'sci.med/59046', 'sci.med/59047', 'sci.med/59048', 'sci.med/59049', 'sci.med/59050', 'sci.med/59051', 'sci.med/59052', 'sci.med/59053', 'sci.med/59054', 'sci.med/59055', 'sci.med/59056', 'sci.med/59057', 'sci.med/59058', 'sci.med/59059', 'sci.med/59060', 'sci.med/59061', 'sci.med/59062', 'sci.med/59063', 'sci.med/59064', 'sci.med/59065', 'sci.med/59066', 'sci.med/59067', 'sci.med/59068', 'sci.med/59069', 'sci.med/59070', 'sci.med/59071', 'sci.med/59072', 'sci.med/59073', 'sci.med/59074', 'sci.med/59075', 'sci.med/59076', 'sci.med/59077', 'sci.med/59078', 'sci.med/59079', 'sci.med/59080', 'sci.med/59081', 'sci.med/59082', 'sci.med/59083', 'sci.med/59084', 'sci.med/59085', 'sci.med/59086', 'sci.med/59087', 'sci.med/59088', 'sci.med/59089', 'sci.med/59090', 'sci.med/59091', 'sci.med/59092', 'sci.med/59093', 'sci.med/59094', 'sci.med/59095', 'sci.med/59096', 'sci.med/59097', 'sci.med/59098', 'sci.med/59099', 'sci.med/59100', 'sci.med/59101', 'sci.med/59102', 'sci.med/59103', 'sci.med/59104', 'sci.med/59105', 'sci.med/59106', 'sci.med/59107', 'sci.med/59108', 'sci.med/59109', 'sci.med/59110', 'sci.med/59111', 'sci.med/59112', 'sci.med/59113', 'sci.med/59114', 'sci.med/59115', 'sci.med/59116', 'sci.med/59117', 'sci.med/59118', 'sci.med/59119', 'sci.med/59120', 'sci.med/59121', 'sci.med/59122', 'sci.med/59123', 'sci.med/59124', 'sci.med/59125', 'sci.med/59126', 'sci.med/59127', 'sci.med/59128', 'sci.med/59129', 'sci.med/59130', 'sci.med/59131', 'sci.med/59132', 'sci.med/59133', 'sci.med/59134', 'sci.med/59135', 'sci.med/59136', 'sci.med/59137', 'sci.med/59138', 'sci.space/59497', 'sci.space/59846', 'sci.space/59848', 'sci.space/59849', 'sci.space/59850', 'sci.space/59870', 'sci.space/59871', 'sci.space/59872', 'sci.space/59873', 'sci.space/59874', 'sci.space/59904', 'sci.space/59905', 'sci.space/59906', 'sci.space/59907', 'sci.space/59908', 'sci.space/59909', 'sci.space/59913', 'sci.space/60103', 'sci.space/60151', 'sci.space/60152', 'sci.space/60153', 'sci.space/60154', 'sci.space/60155', 'sci.space/60156', 'sci.space/60157', 'sci.space/60158', 'sci.space/60159', 'sci.space/60160', 'sci.space/60161', 'sci.space/60162', 'sci.space/60163', 'sci.space/60164', 'sci.space/60165', 'sci.space/60166', 'sci.space/60167', 'sci.space/60168', 'sci.space/60169', 'sci.space/60170', 'sci.space/60171', 'sci.space/60172', 'sci.space/60173', 'sci.space/60174', 'sci.space/60175', 'sci.space/60176', 'sci.space/60177', 'sci.space/60178', 'sci.space/60179', 'sci.space/60180', 'sci.space/60181', 'sci.space/60182', 'sci.space/60183', 'sci.space/60184', 'sci.space/60185', 'sci.space/60186', 'sci.space/60187', 'sci.space/60188', 'sci.space/60189', 'sci.space/60190', 'sci.space/60191', 'sci.space/60192', 'sci.space/60193', 'sci.space/60194', 'sci.space/60195', 'sci.space/60196', 'sci.space/60197', 'sci.space/60198', 'sci.space/60199', 'sci.space/60200', 'sci.space/60201', 'sci.space/60202', 'sci.space/60203', 'sci.space/60204', 'sci.space/60205', 'sci.space/60206', 'sci.space/60207', 'sci.space/60208', 'sci.space/60209', 'sci.space/60210', 'sci.space/60211', 'sci.space/60212', 'sci.space/60213', 'sci.space/60214', 'sci.space/60215', 'sci.space/60216', 'sci.space/60217', 'sci.space/60218', 'sci.space/60219', 'sci.space/60220', 'sci.space/60221', 'sci.space/60222', 'sci.space/60223', 'sci.space/60224', 'sci.space/60225', 'sci.space/60226', 'sci.space/60227', 'sci.space/60228', 'sci.space/60229', 'sci.space/60230', 'sci.space/60231', 'sci.space/60232', 'sci.space/60233', 'sci.space/60234', 'sci.space/60235', 'sci.space/60236', 'sci.space/60237', 'sci.space/60238', 'sci.space/60239', 'sci.space/60240', 'sci.space/60241', 'sci.space/60242', 'sci.space/60243', 'sci.space/60244', 'sci.space/60245', 'sci.space/60246', 'sci.space/60247', 'sci.space/60248', 'sci.space/60249', 'sci.space/60250', 'sci.space/60251', 'sci.space/60252', 'sci.space/60253', 'sci.space/60770', 'sci.space/60771', 'sci.space/60772', 'sci.space/60773', 'sci.space/60774', 'sci.space/60775', 'sci.space/60777', 'sci.space/60778', 'sci.space/60779', 'sci.space/60780', 'sci.space/60781', 'sci.space/60782', 'sci.space/60783', 'sci.space/60784', 'sci.space/60785', 'sci.space/60786', 'sci.space/60787', 'sci.space/60788', 'sci.space/60789', 'sci.space/60790', 'sci.space/60791', 'sci.space/60792', 'sci.space/60793', 'sci.space/60794', 'sci.space/60795', 'sci.space/60796', 'sci.space/60797', 'sci.space/60798', 'sci.space/60799', 'sci.space/60800', 'sci.space/60801', 'sci.space/60802', 'sci.space/60803', 'sci.space/60804', 'sci.space/60806', 'sci.space/60807', 'sci.space/60808', 'sci.space/60809', 'sci.space/60810', 'sci.space/60811', 'sci.space/60812', 'sci.space/60813', 'sci.space/60814', 'sci.space/60815', 'sci.space/60816', 'sci.space/60817', 'sci.space/60818', 'sci.space/60819', 'sci.space/60820', 'sci.space/60821', 'sci.space/60822', 'sci.space/60823', 'sci.space/60824', 'sci.space/60825', 'sci.space/60826', 'sci.space/60827', 'sci.space/60828', 'sci.space/60829', 'sci.space/60830', 'sci.space/60831', 'sci.space/60832', 'sci.space/60833', 'sci.space/60834', 'sci.space/60835', 'sci.space/60836', 'sci.space/60837', 'sci.space/60838', 'sci.space/60839', 'sci.space/60840', 'sci.space/60841', 'sci.space/60842', 'sci.space/60843', 'sci.space/60844', 'sci.space/60845', 'sci.space/60846', 'sci.space/60847', 'sci.space/60848', 'sci.space/60849', 'sci.space/60850', 'sci.space/60851', 'sci.space/60852', 'sci.space/60853', 'sci.space/60854', 'sci.space/60855', 'sci.space/60856', 'sci.space/60857', 'sci.space/60858', 'sci.space/60859', 'sci.space/60860', 'sci.space/60861', 'sci.space/60862', 'sci.space/60863', 'sci.space/60864', 'sci.space/60865', 'sci.space/60866', 'sci.space/60867', 'sci.space/60868', 'sci.space/60869', 'sci.space/60870', 'sci.space/60871', 'sci.space/60872', 'sci.space/60873', 'sci.space/60874', 'sci.space/60875', 'sci.space/60876', 'sci.space/60877', 'sci.space/60878', 'sci.space/60879', 'sci.space/60880', 'sci.space/60881', 'sci.space/60882', 'sci.space/60883', 'sci.space/60884', 'sci.space/60885', 'sci.space/60886', 'sci.space/60887', 'sci.space/60888', 'sci.space/60889', 'sci.space/60890', 'sci.space/60891', 'sci.space/60892', 'sci.space/60893', 'sci.space/60894', 'sci.space/60895', 'sci.space/60896', 'sci.space/60897', 'sci.space/60898', 'sci.space/60899', 'sci.space/60900', 'sci.space/60901', 'sci.space/60902', 'sci.space/60903', 'sci.space/60904', 'sci.space/60905', 'sci.space/60906', 'sci.space/60907', 'sci.space/60908', 'sci.space/60909', 'sci.space/60910', 'sci.space/60911', 'sci.space/60912', 'sci.space/60913', 'sci.space/60914', 'sci.space/60915', 'sci.space/60916', 'sci.space/60917', 'sci.space/60918', 'sci.space/60919', 'sci.space/60920', 'sci.space/60921', 'sci.space/60922', 'sci.space/60923', 'sci.space/60924', 'sci.space/60925', 'sci.space/60926', 'sci.space/60927', 'sci.space/60928', 'sci.space/60929', 'sci.space/60930', 'sci.space/60931', 'sci.space/60932', 'sci.space/60933', 'sci.space/60934', 'sci.space/60935', 'sci.space/60936', 'sci.space/60937', 'sci.space/60938', 'sci.space/60939', 'sci.space/60940', 'sci.space/60941', 'sci.space/60942', 'sci.space/60943', 'sci.space/60944', 'sci.space/60945', 'sci.space/60946', 'sci.space/60947', 'sci.space/60948', 'sci.space/60949', 'sci.space/60950', 'sci.space/60951', 'sci.space/60952', 'sci.space/60953', 'sci.space/60954', 'sci.space/60955', 'sci.space/60956', 'sci.space/60957', 'sci.space/60958', 'sci.space/60959', 'sci.space/60960', 'sci.space/60961', 'sci.space/60962', 'sci.space/60963', 'sci.space/60964', 'sci.space/60965', 'sci.space/60966', 'sci.space/60967', 'sci.space/60968', 'sci.space/60969', 'sci.space/60970', 'sci.space/60971', 'sci.space/60972', 'sci.space/60973', 'sci.space/60974', 'sci.space/60975', 'sci.space/60976', 'sci.space/60977', 'sci.space/60978', 'sci.space/60979', 'sci.space/60980', 'sci.space/60981', 'sci.space/60982', 'sci.space/60983', 'sci.space/60984', 'sci.space/60985', 'sci.space/60986', 'sci.space/60987', 'sci.space/60988', 'sci.space/60989', 'sci.space/60990', 'sci.space/60991', 'sci.space/60992', 'sci.space/60993', 'sci.space/60994', 'sci.space/60995', 'sci.space/60996', 'sci.space/60997', 'sci.space/60998', 'sci.space/60999', 'sci.space/61000', 'sci.space/61001', 'sci.space/61002', 'sci.space/61003', 'sci.space/61004', 'sci.space/61005', 'sci.space/61006', 'sci.space/61007', 'sci.space/61008', 'sci.space/61009', 'sci.space/61010', 'sci.space/61011', 'sci.space/61012', 'sci.space/61013', 'sci.space/61014', 'sci.space/61015', 'sci.space/61016', 'sci.space/61017', 'sci.space/61018', 'sci.space/61019', 'sci.space/61020', 'sci.space/61021', 'sci.space/61022', 'sci.space/61023', 'sci.space/61024', 'sci.space/61025', 'sci.space/61026', 'sci.space/61027', 'sci.space/61028', 'sci.space/61029', 'sci.space/61030', 'sci.space/61031', 'sci.space/61032', 'sci.space/61033', 'sci.space/61034', 'sci.space/61035', 'sci.space/61036', 'sci.space/61037', 'sci.space/61038', 'sci.space/61039', 'sci.space/61040', 'sci.space/61041', 'sci.space/61042', 'sci.space/61043', 'sci.space/61044', 'sci.space/61045', 'sci.space/61046', 'sci.space/61047', 'sci.space/61048', 'sci.space/61049', 'sci.space/61050', 'sci.space/61051', 'sci.space/61052', 'sci.space/61053', 'sci.space/61054', 'sci.space/61055', 'sci.space/61056', 'sci.space/61057', 'sci.space/61058', 'sci.space/61059', 'sci.space/61060', 'sci.space/61061', 'sci.space/61062', 'sci.space/61063', 'sci.space/61064', 'sci.space/61065', 'sci.space/61066', 'sci.space/61067', 'sci.space/61068', 'sci.space/61069', 'sci.space/61070', 'sci.space/61071', 'sci.space/61072', 'sci.space/61073', 'sci.space/61074', 'sci.space/61075', 'sci.space/61076', 'sci.space/61077', 'sci.space/61078', 'sci.space/61079', 'sci.space/61080', 'sci.space/61081', 'sci.space/61082', 'sci.space/61083', 'sci.space/61084', 'sci.space/61085', 'sci.space/61086', 'sci.space/61087', 'sci.space/61088', 'sci.space/61089', 'sci.space/61090', 'sci.space/61091', 'sci.space/61092', 'sci.space/61093', 'sci.space/61094', 'sci.space/61095', 'sci.space/61096', 'sci.space/61097', 'sci.space/61098', 'sci.space/61099', 'sci.space/61100', 'sci.space/61101', 'sci.space/61102', 'sci.space/61103', 'sci.space/61104', 'sci.space/61105', 'sci.space/61106', 'sci.space/61107', 'sci.space/61108', 'sci.space/61109', 'sci.space/61110', 'sci.space/61111', 'sci.space/61112', 'sci.space/61113', 'sci.space/61114', 'sci.space/61115', 'sci.space/61116', 'sci.space/61117', 'sci.space/61118', 'sci.space/61119', 'sci.space/61120', 'sci.space/61121', 'sci.space/61122', 'sci.space/61123', 'sci.space/61124', 'sci.space/61125', 'sci.space/61126', 'sci.space/61127', 'sci.space/61128', 'sci.space/61129', 'sci.space/61130', 'sci.space/61131', 'sci.space/61132', 'sci.space/61133', 'sci.space/61134', 'sci.space/61135', 'sci.space/61136', 'sci.space/61137', 'sci.space/61138', 'sci.space/61139', 'sci.space/61140', 'sci.space/61141', 'sci.space/61142', 'sci.space/61143', 'sci.space/61144', 'sci.space/61145', 'sci.space/61146', 'sci.space/61147', 'sci.space/61148', 'sci.space/61149', 'sci.space/61150', 'talk.politics.misc/124146', 'talk.politics.misc/176845', 'talk.politics.misc/176846', 'talk.politics.misc/176847', 'talk.politics.misc/176849', 'talk.politics.misc/176850', 'talk.politics.misc/176851', 'talk.politics.misc/176852', 'talk.politics.misc/176853', 'talk.politics.misc/176854', 'talk.politics.misc/176855', 'talk.politics.misc/176856', 'talk.politics.misc/176857', 'talk.politics.misc/176858', 'talk.politics.misc/176859', 'talk.politics.misc/176860', 'talk.politics.misc/176861', 'talk.politics.misc/176862', 'talk.politics.misc/176863', 'talk.politics.misc/176864', 'talk.politics.misc/176865', 'talk.politics.misc/176866', 'talk.politics.misc/176867', 'talk.politics.misc/176868', 'talk.politics.misc/176869', 'talk.politics.misc/176870', 'talk.politics.misc/176871', 'talk.politics.misc/176872', 'talk.politics.misc/176873', 'talk.politics.misc/176874', 'talk.politics.misc/176875', 'talk.politics.misc/176876', 'talk.politics.misc/176877', 'talk.politics.misc/176878', 'talk.politics.misc/176880', 'talk.politics.misc/176881', 'talk.politics.misc/176882', 'talk.politics.misc/176883', 'talk.politics.misc/176884', 'talk.politics.misc/176885', 'talk.politics.misc/176886', 'talk.politics.misc/176887', 'talk.politics.misc/176888', 'talk.politics.misc/176889', 'talk.politics.misc/176890', 'talk.politics.misc/176891', 'talk.politics.misc/176892', 'talk.politics.misc/176893', 'talk.politics.misc/176894', 'talk.politics.misc/176895', 'talk.politics.misc/176896', 'talk.politics.misc/176897', 'talk.politics.misc/176898', 'talk.politics.misc/176899', 'talk.politics.misc/176900', 'talk.politics.misc/176901', 'talk.politics.misc/176902', 'talk.politics.misc/176903', 'talk.politics.misc/176904', 'talk.politics.misc/176905', 'talk.politics.misc/176906', 'talk.politics.misc/176907', 'talk.politics.misc/176908', 'talk.politics.misc/176909', 'talk.politics.misc/176910', 'talk.politics.misc/176911', 'talk.politics.misc/176912', 'talk.politics.misc/176913', 'talk.politics.misc/176914', 'talk.politics.misc/176915', 'talk.politics.misc/176916', 'talk.politics.misc/176917', 'talk.politics.misc/176918', 'talk.politics.misc/176919', 'talk.politics.misc/176920', 'talk.politics.misc/176921', 'talk.politics.misc/176922', 'talk.politics.misc/176923', 'talk.politics.misc/176924', 'talk.politics.misc/176925', 'talk.politics.misc/176926', 'talk.politics.misc/176927', 'talk.politics.misc/176928', 'talk.politics.misc/176929', 'talk.politics.misc/176930', 'talk.politics.misc/176931', 'talk.politics.misc/176932', 'talk.politics.misc/176933', 'talk.politics.misc/176934', 'talk.politics.misc/176935', 'talk.politics.misc/176936', 'talk.politics.misc/176937', 'talk.politics.misc/176938', 'talk.politics.misc/176939', 'talk.politics.misc/176940', 'talk.politics.misc/176941', 'talk.politics.misc/176942', 'talk.politics.misc/176943', 'talk.politics.misc/176944', 'talk.politics.misc/176945', 'talk.politics.misc/176946', 'talk.politics.misc/176947', 'talk.politics.misc/176948', 'talk.politics.misc/176949', 'talk.politics.misc/176950', 'talk.politics.misc/176951', 'talk.politics.misc/176952', 'talk.politics.misc/176953', 'talk.politics.misc/176954', 'talk.politics.misc/176955', 'talk.politics.misc/176956', 'talk.politics.misc/176957', 'talk.politics.misc/176958', 'talk.politics.misc/176959', 'talk.politics.misc/176960', 'talk.politics.misc/176961', 'talk.politics.misc/176962', 'talk.politics.misc/176963', 'talk.politics.misc/176964', 'talk.politics.misc/176965', 'talk.politics.misc/176966', 'talk.politics.misc/176967', 'talk.politics.misc/176968', 'talk.politics.misc/176969', 'talk.politics.misc/176970', 'talk.politics.misc/176971', 'talk.politics.misc/176972', 'talk.politics.misc/176973', 'talk.politics.misc/176974', 'talk.politics.misc/176975', 'talk.politics.misc/176976', 'talk.politics.misc/176977', 'talk.politics.misc/176978', 'talk.politics.misc/176979', 'talk.politics.misc/176980', 'talk.politics.misc/176981', 'talk.politics.misc/176982', 'talk.politics.misc/176983', 'talk.politics.misc/176984', 'talk.politics.misc/176985', 'talk.politics.misc/176986', 'talk.politics.misc/176987', 'talk.politics.misc/176988', 'talk.politics.misc/176989', 'talk.politics.misc/176990', 'talk.politics.misc/176991', 'talk.politics.misc/176992', 'talk.politics.misc/176993', 'talk.politics.misc/176994', 'talk.politics.misc/176995', 'talk.politics.misc/176996', 'talk.politics.misc/176997', 'talk.politics.misc/176998', 'talk.politics.misc/176999', 'talk.politics.misc/177000', 'talk.politics.misc/177001', 'talk.politics.misc/177002', 'talk.politics.misc/177003', 'talk.politics.misc/177004', 'talk.politics.misc/177005', 'talk.politics.misc/177006', 'talk.politics.misc/177007', 'talk.politics.misc/177008', 'talk.politics.misc/177009', 'talk.politics.misc/177010', 'talk.politics.misc/177011', 'talk.politics.misc/177012', 'talk.politics.misc/177013', 'talk.politics.misc/177014', 'talk.politics.misc/177015', 'talk.politics.misc/177016', 'talk.politics.misc/177017', 'talk.politics.misc/177018', 'talk.politics.misc/177019', 'talk.politics.misc/177020', 'talk.politics.misc/177021', 'talk.politics.misc/177022', 'talk.politics.misc/177023', 'talk.politics.misc/177024', 'talk.politics.misc/178293', 'talk.politics.misc/178294', 'talk.politics.misc/178295', 'talk.politics.misc/178296', 'talk.politics.misc/178297', 'talk.politics.misc/178298', 'talk.politics.misc/178299', 'talk.politics.misc/178300', 'talk.politics.misc/178301', 'talk.politics.misc/178302', 'talk.politics.misc/178303', 'talk.politics.misc/178304', 'talk.politics.misc/178305', 'talk.politics.misc/178306', 'talk.politics.misc/178307', 'talk.politics.misc/178308', 'talk.politics.misc/178309', 'talk.politics.misc/178310', 'talk.politics.misc/178311', 'talk.politics.misc/178312', 'talk.politics.misc/178313', 'talk.politics.misc/178314', 'talk.politics.misc/178315', 'talk.politics.misc/178316', 'talk.politics.misc/178317', 'talk.politics.misc/178318', 'talk.politics.misc/178319', 'talk.politics.misc/178320', 'talk.politics.misc/178321', 'talk.politics.misc/178322', 'talk.politics.misc/178323', 'talk.politics.misc/178324', 'talk.politics.misc/178325', 'talk.politics.misc/178326', 'talk.politics.misc/178327', 'talk.politics.misc/178328', 'talk.politics.misc/178329', 'talk.politics.misc/178330', 'talk.politics.misc/178331', 'talk.politics.misc/178332', 'talk.politics.misc/178333', 'talk.politics.misc/178334', 'talk.politics.misc/178335', 'talk.politics.misc/178336', 'talk.politics.misc/178337', 'talk.politics.misc/178338', 'talk.politics.misc/178339', 'talk.politics.misc/178340', 'talk.politics.misc/178341', 'talk.politics.misc/178342', 'talk.politics.misc/178343', 'talk.politics.misc/178344', 'talk.politics.misc/178345', 'talk.politics.misc/178346', 'talk.politics.misc/178347', 'talk.politics.misc/178348', 'talk.politics.misc/178349', 'talk.politics.misc/178350', 'talk.politics.misc/178351', 'talk.politics.misc/178352', 'talk.politics.misc/178353', 'talk.politics.misc/178354', 'talk.politics.misc/178355', 'talk.politics.misc/178356', 'talk.politics.misc/178357', 'talk.politics.misc/178358', 'talk.politics.misc/178359', 'talk.politics.misc/178360', 'talk.politics.misc/178361', 'talk.politics.misc/178362', 'talk.politics.misc/178363', 'talk.politics.misc/178364', 'talk.politics.misc/178365', 'talk.politics.misc/178366', 'talk.politics.misc/178367', 'talk.politics.misc/178368', 'talk.politics.misc/178369', 'talk.politics.misc/178370', 'talk.politics.misc/178371', 'talk.politics.misc/178372', 'talk.politics.misc/178373', 'talk.politics.misc/178374', 'talk.politics.misc/178375', 'talk.politics.misc/178376', 'talk.politics.misc/178377', 'talk.politics.misc/178378', 'talk.politics.misc/178379', 'talk.politics.misc/178380', 'talk.politics.misc/178381', 'talk.politics.misc/178382', 'talk.politics.misc/178383', 'talk.politics.misc/178384', 'talk.politics.misc/178385', 'talk.politics.misc/178386', 'talk.politics.misc/178387', 'talk.politics.misc/178388', 'talk.politics.misc/178389', 'talk.politics.misc/178390', 'talk.politics.misc/178391', 'talk.politics.misc/178392', 'talk.politics.misc/178393', 'talk.politics.misc/178394', 'talk.politics.misc/178395', 'talk.politics.misc/178396', 'talk.politics.misc/178397', 'talk.politics.misc/178398', 'talk.politics.misc/178399', 'talk.politics.misc/178400', 'talk.politics.misc/178401', 'talk.politics.misc/178402', 'talk.politics.misc/178403', 'talk.politics.misc/178404', 'talk.politics.misc/178405', 'talk.politics.misc/178406', 'talk.politics.misc/178407', 'talk.politics.misc/178408', 'talk.politics.misc/178409', 'talk.politics.misc/178410', 'talk.politics.misc/178411', 'talk.politics.misc/178412', 'talk.politics.misc/178413', 'talk.politics.misc/178414', 'talk.politics.misc/178415', 'talk.politics.misc/178416', 'talk.politics.misc/178417', 'talk.politics.misc/178418', 'talk.politics.misc/178419', 'talk.politics.misc/178420', 'talk.politics.misc/178421', 'talk.politics.misc/178422', 'talk.politics.misc/178423', 'talk.politics.misc/178424', 'talk.politics.misc/178425', 'talk.politics.misc/178426', 'talk.politics.misc/178427', 'talk.politics.misc/178428', 'talk.politics.misc/178429', 'talk.politics.misc/178430', 'talk.politics.misc/178431', 'talk.politics.misc/178432', 'talk.politics.misc/178433', 'talk.politics.misc/178434', 'talk.politics.misc/178435', 'talk.politics.misc/178436', 'talk.politics.misc/178437', 'talk.politics.misc/178438', 'talk.politics.misc/178439', 'talk.politics.misc/178440', 'talk.politics.misc/178441', 'talk.politics.misc/178442', 'talk.politics.misc/178443', 'talk.politics.misc/178444', 'talk.politics.misc/178445', 'talk.politics.misc/178446', 'talk.politics.misc/178447', 'talk.politics.misc/178448', 'talk.politics.misc/178449', 'talk.politics.misc/178450', 'talk.politics.misc/178451', 'talk.politics.misc/178452', 'talk.politics.misc/178453', 'talk.politics.misc/178454', 'talk.politics.misc/178455', 'talk.politics.misc/178456', 'talk.politics.misc/178457', 'talk.politics.misc/178458', 'talk.politics.misc/178459', 'talk.politics.misc/178460', 'talk.politics.misc/178461', 'talk.politics.misc/178462', 'talk.politics.misc/178463', 'talk.politics.misc/178464', 'talk.politics.misc/178465', 'talk.politics.misc/178466', 'talk.politics.misc/178467', 'talk.politics.misc/178468', 'talk.politics.misc/178469', 'talk.politics.misc/178470', 'talk.politics.misc/178471', 'talk.politics.misc/178472', 'talk.politics.misc/178473', 'talk.politics.misc/178474', 'talk.politics.misc/178475', 'talk.politics.misc/178476', 'talk.politics.misc/178477', 'talk.politics.misc/178478', 'talk.politics.misc/178479', 'talk.politics.misc/178480', 'talk.politics.misc/178481', 'talk.politics.misc/178482', 'talk.politics.misc/178483', 'talk.politics.misc/178484', 'talk.politics.misc/178485', 'talk.politics.misc/178486', 'talk.politics.misc/178487', 'talk.politics.misc/178488', 'talk.politics.misc/178489', 'talk.politics.misc/178490', 'talk.politics.misc/178491', 'talk.politics.misc/178492', 'talk.politics.misc/178493', 'talk.politics.misc/178494', 'talk.politics.misc/178495', 'talk.politics.misc/178496', 'talk.politics.misc/178497', 'talk.politics.misc/178498', 'talk.politics.misc/178499', 'talk.politics.misc/178500', 'talk.politics.misc/178501', 'talk.politics.misc/178502', 'talk.politics.misc/178503', 'talk.politics.misc/178504', 'talk.politics.misc/178505', 'talk.politics.misc/178506', 'talk.politics.misc/178507', 'talk.politics.misc/178508', 'talk.politics.misc/178509', 'talk.politics.misc/178510', 'talk.politics.misc/178511', 'talk.politics.misc/178512', 'talk.politics.misc/178513', 'talk.politics.misc/178514', 'talk.politics.misc/178515', 'talk.politics.misc/178516', 'talk.politics.misc/178517', 'talk.politics.misc/178518', 'talk.politics.misc/178519', 'talk.politics.misc/178520', 'talk.politics.misc/178521', 'talk.politics.misc/178522', 'talk.politics.misc/178523', 'talk.politics.misc/178524', 'talk.politics.misc/178525', 'talk.politics.misc/178526', 'talk.politics.misc/178527', 'talk.politics.misc/178528', 'talk.politics.misc/178529', 'talk.politics.misc/178530', 'talk.politics.misc/178531', 'talk.politics.misc/178532', 'talk.politics.misc/178533', 'talk.politics.misc/178534', 'talk.politics.misc/178535', 'talk.politics.misc/178536', 'talk.politics.misc/178537', 'talk.politics.misc/178538', 'talk.politics.misc/178539', 'talk.politics.misc/178540', 'talk.politics.misc/178541', 'talk.politics.misc/178542', 'talk.politics.misc/178543', 'talk.politics.misc/178544', 'talk.politics.misc/178545', 'talk.politics.misc/178546', 'talk.politics.misc/178547', 'talk.politics.misc/178548', 'talk.politics.misc/178549', 'talk.politics.misc/178550', 'talk.politics.misc/178551', 'talk.politics.misc/178552', 'talk.politics.misc/178553', 'talk.politics.misc/178554', 'talk.politics.misc/178555', 'talk.politics.misc/178556', 'talk.politics.misc/178557', 'talk.politics.misc/178558', 'talk.politics.misc/178559', 'talk.politics.misc/178560', 'talk.politics.misc/178561', 'talk.politics.misc/178562', 'talk.politics.misc/178563', 'talk.politics.misc/178564', 'talk.politics.misc/178565', 'talk.politics.misc/178566', 'talk.politics.misc/178567', 'talk.politics.misc/178568', 'talk.politics.misc/178569', 'talk.politics.misc/178570', 'talk.politics.misc/178571', 'talk.politics.misc/178572', 'talk.politics.misc/178573', 'talk.politics.misc/178574', 'talk.politics.misc/178575', 'talk.politics.misc/178576', 'talk.politics.misc/178577', 'talk.politics.misc/178578', 'talk.politics.misc/178579', 'talk.politics.misc/178581', 'talk.politics.misc/178582', 'talk.politics.misc/178583', 'talk.politics.misc/178584', 'talk.politics.misc/178585', 'talk.politics.misc/178586', 'talk.politics.misc/178587', 'talk.politics.misc/178588', 'talk.politics.misc/178589', 'talk.politics.misc/178590', 'talk.politics.misc/178591', 'talk.politics.misc/178592', 'talk.politics.misc/178593', 'talk.politics.misc/178594', 'talk.politics.misc/178595', 'talk.politics.misc/178596', 'talk.politics.misc/178597', 'talk.politics.misc/178598', 'talk.politics.misc/178599', 'talk.politics.misc/178600', 'talk.politics.misc/178601', 'talk.politics.misc/178602', 'talk.politics.misc/178603', 'talk.politics.misc/178604', 'talk.politics.misc/178605', 'talk.politics.misc/178606', 'talk.politics.misc/178607', 'talk.politics.misc/178608', 'talk.politics.misc/178609', 'talk.politics.misc/178610', 'talk.politics.misc/178611', 'talk.politics.misc/178612', 'talk.politics.misc/178613', 'talk.politics.misc/178614']\n"
     ]
    }
   ],
   "source": [
    "print(train_data)"
   ]
  },
  {
   "cell_type": "markdown",
   "metadata": {},
   "source": [
    "# Feature Vector"
   ]
  },
  {
   "cell_type": "code",
   "execution_count": 127,
   "metadata": {},
   "outputs": [],
   "source": [
    "import os\n",
    "import math\n",
    "import codecs\n",
    "TF_Dictionary={}\n",
    "parent=\"C:/Users/Devashi Jain/Desktop/IIIT-D/Information Retrieval/Assignment4/Classes\"\n",
    "for file_name in os.listdir(os.path.join(parent)): \n",
    "    for file in os.listdir(os.path.join(parent,file_name)):\n",
    "        doc=file_name+'/'+file\n",
    "        preprossed_file=[]\n",
    "        Normalized_TF={}\n",
    "        if doc in train_data:\n",
    "            fd=codecs.open(parent+'/'+file_name+'/'+file,'r',errors='ignore',encoding='utf-8')\n",
    "            preprossed_file=Pre_Processing(fd.read())\n",
    "            for i in range(len(preprossed_file)):\n",
    "\n",
    "                if preprossed_file[i] in Normalized_TF:\n",
    "                    Normalized_TF[preprossed_file[i]]+=1\n",
    "                else:\n",
    "                    Normalized_TF[preprossed_file[i]]=1\n",
    "            \n",
    "            for i in range(len(preprossed_file)):\n",
    "                if preprossed_file[i] in TF_Dictionary:\n",
    "                    TF_Dictionary[preprossed_file[i]][doc]=Normalized_TF[preprossed_file[i]]\n",
    "                else:\n",
    "                    TF_Dictionary[preprossed_file[i]] = {doc:Normalized_TF[preprossed_file[i]]}\n",
    "\n",
    "       "
   ]
  },
  {
   "cell_type": "code",
   "execution_count": 128,
   "metadata": {},
   "outputs": [
    {
     "name": "stdout",
     "output_type": "stream",
     "text": [
      "199\n"
     ]
    }
   ],
   "source": [
    "print(len(Doc_Vec['comp.graphics/37261']))"
   ]
  },
  {
   "cell_type": "code",
   "execution_count": 129,
   "metadata": {},
   "outputs": [],
   "source": [
    "import os\n",
    "import math\n",
    "import codecs\n",
    "Doc_Vec={}\n",
    "parent=\"C:/Users/Devashi Jain/Desktop/IIIT-D/Information Retrieval/Assignment4/Classes\"\n",
    "for file_name in os.listdir(os.path.join(parent)): \n",
    "    for file in os.listdir(os.path.join(parent,file_name)):\n",
    "        doc=file_name+'/'+file\n",
    "        preprossed_file=[]\n",
    "        Normalized_TF={}\n",
    "        if doc in train_data:\n",
    "            fd=codecs.open(parent+'/'+file_name+'/'+file,'r',errors='ignore',encoding='utf-8')\n",
    "            preprossed_file=Pre_Processing(fd.read())\n",
    "            for i in range(len(preprossed_file)):\n",
    "                if preprossed_file[i] in Normalized_TF:\n",
    "                    Normalized_TF[preprossed_file[i]]+=1\n",
    "                else:\n",
    "                    Normalized_TF[preprossed_file[i]]=1\n",
    "#             for term in Normalized_TF:\n",
    "#                 IDF=1+math.log(len(train_data)/len(TF_Dictionary[term]))\n",
    "#                 Normalized_TF[term]*=IDF\n",
    "            Normalized_TF={k: v/len(preprossed_file) for k,v in Normalized_TF.items()}\n",
    "            Doc_Vec[doc]=Normalized_TF"
   ]
  },
  {
   "cell_type": "code",
   "execution_count": 130,
   "metadata": {},
   "outputs": [],
   "source": [
    "import os\n",
    "import math\n",
    "import codecs\n",
    "Test_Doc_Vec={}\n",
    "parent=\"C:/Users/Devashi Jain/Desktop/IIIT-D/Information Retrieval/Assignment4/Classes\"\n",
    "for file_name in os.listdir(os.path.join(parent)): \n",
    "    for file in os.listdir(os.path.join(parent,file_name)):\n",
    "        doc=file_name+'/'+file\n",
    "        preprossed_file=[]\n",
    "        Normalized_TF={}\n",
    "        if doc in test_data:\n",
    "            fd=codecs.open(parent+'/'+file_name+'/'+file,'r',errors='ignore',encoding='utf-8')\n",
    "            preprossed_file=Pre_Processing(fd.read())\n",
    "            for i in range(len(preprossed_file)):\n",
    "\n",
    "                if preprossed_file[i] in Normalized_TF:\n",
    "                    Normalized_TF[preprossed_file[i]]+=1\n",
    "                else:\n",
    "                    Normalized_TF[preprossed_file[i]]=1\n",
    "#             for term in Normalized_TF:\n",
    "#                 if term not in TF_Dictionary:\n",
    "#                     Normalized_TF[term]=0\n",
    "#                 else:\n",
    "#                     IDF=1+math.log(len(train_data)/len(TF_Dictionary[term]))\n",
    "#                     Normalized_TF[term]*=IDF\n",
    "            Normalized_TF={k: v/len(preprossed_file) for k,v in Normalized_TF.items()}\n",
    "            Test_Doc_Vec[doc]=Normalized_TF"
   ]
  },
  {
   "cell_type": "code",
   "execution_count": 131,
   "metadata": {},
   "outputs": [
    {
     "data": {
      "text/plain": [
       "2500"
      ]
     },
     "execution_count": 131,
     "metadata": {},
     "output_type": "execute_result"
    }
   ],
   "source": [
    "len(Doc_Vec)"
   ]
  },
  {
   "cell_type": "code",
   "execution_count": 132,
   "metadata": {},
   "outputs": [
    {
     "data": {
      "text/plain": [
       "2500"
      ]
     },
     "execution_count": 132,
     "metadata": {},
     "output_type": "execute_result"
    }
   ],
   "source": [
    "len(Test_Doc_Vec)"
   ]
  },
  {
   "cell_type": "markdown",
   "metadata": {},
   "source": [
    "# Cosine Similarity"
   ]
  },
  {
   "cell_type": "code",
   "execution_count": 133,
   "metadata": {},
   "outputs": [],
   "source": [
    "def Euclidean(document):\n",
    "    a=0\n",
    "    for term in document:\n",
    "        a=a+(document[term])**2\n",
    "    p=math.sqrt(a)\n",
    "    for term in document:\n",
    "        document[term]/=p\n",
    "    return document\n",
    "def CosineSimilarity(q,d):\n",
    "    query=Euclidean(q)\n",
    "    document=Euclidean(d)\n",
    "    s=0\n",
    "    for word in query:\n",
    "        if word in document:\n",
    "            s=s+(query[word]*document[word])\n",
    "    return s"
   ]
  },
  {
   "cell_type": "code",
   "execution_count": 134,
   "metadata": {},
   "outputs": [],
   "source": [
    "import collections\n",
    "import operator\n",
    "import pandas as pd\n",
    "def Hard_Predicted(Label):\n",
    "    predicted_label=[]\n",
    "    Label=pd.DataFrame(Label)\n",
    "    row,col=Label.shape\n",
    "    for i in range(col):\n",
    "        counter=collections.Counter(Label[i])\n",
    "        sorted_counter = sorted(counter.items(), key=operator.itemgetter(0))\n",
    "        max_counter=max(counter.items(), key=operator.itemgetter(1))\n",
    "        y={}\n",
    "        for term in counter:\n",
    "            if(counter[term]>=max_counter[1]):\n",
    "                y[term]=counter[term]\n",
    "        sorted_counter = sorted(y.items(), key=operator.itemgetter(0))\n",
    "        predicted_label.append(sorted_counter[0][0])\n",
    "    return (predicted_label)"
   ]
  },
  {
   "cell_type": "code",
   "execution_count": 135,
   "metadata": {},
   "outputs": [],
   "source": [
    "import numpy as np\n",
    "def Probability(Predicted,k):\n",
    "    prob=np.zeros(5)\n",
    "    list1=['comp.graphics',\n",
    "    'rec.sport.hockey',\n",
    "    'sci.med',\n",
    "    'sci.space',\n",
    "    'talk.politics.misc']\n",
    "    for i in range(len(Predicted)):\n",
    "        for j in range(len(list1)):\n",
    "            if(Predicted[i]==list1[j]):\n",
    "                prob[j]+=1\n",
    "    prob=prob/k\n",
    "    return prob"
   ]
  },
  {
   "cell_type": "code",
   "execution_count": 136,
   "metadata": {},
   "outputs": [],
   "source": [
    "def Roc(probabilities,Data,label):\n",
    "    min_prob=min(probabilities)\n",
    "    max_prob=max(probabilities)\n",
    "    thresold=np.linspace(min_prob,max_prob,num=100)\n",
    "    #print(thresold)\n",
    "    TPR=[]\n",
    "    FPR=[]\n",
    "    for i in range(len(thresold)):\n",
    "        Roc=[]\n",
    "        tp=0\n",
    "        fp=0\n",
    "        tn=0\n",
    "        fn=0\n",
    "        for j in range(len(probabilities)):\n",
    "            if(probabilities[j]>=thresold[i]):\n",
    "                Roc.append(0)\n",
    "            else:\n",
    "                Roc.append(1)\n",
    "        \n",
    "        for i in range(len(Roc)):\n",
    "            if(Roc[i]==Data[i]):\n",
    "                if(Roc[i]==1):\n",
    "                    tp=tp+1\n",
    "                else:\n",
    "                    tn=tn+1\n",
    "            else:\n",
    "                if(Roc[i]==0):\n",
    "                    fn=fn+1\n",
    "                else:\n",
    "                    fp=fp+1\n",
    "        print(tp,fp,tn,fn)\n",
    "        TPR.append(tp/(tp+fn))\n",
    "        FPR.append(fp/(fp+tn))\n",
    "        \n",
    "    return TPR,FPR"
   ]
  },
  {
   "cell_type": "code",
   "execution_count": 184,
   "metadata": {},
   "outputs": [
    {
     "name": "stdout",
     "output_type": "stream",
     "text": [
      "Enter the k\n",
      "5\n"
     ]
    }
   ],
   "source": [
    "Predicted_Label=[]\n",
    "Predicted_Probability=[]\n",
    "print(\"Enter the k\")\n",
    "k=int(input())\n",
    "for term1 in Test_Doc_Vec:\n",
    "    Classify={}\n",
    "    Predicted=[]\n",
    "    for term2 in Doc_Vec:\n",
    "        score=CosineSimilarity(Test_Doc_Vec[term1],Doc_Vec[term2])\n",
    "        Classify[term2]=score\n",
    "    topk=(sorted(Classify.items(), key = lambda kv:(kv[1], kv[0] ),reverse=True)) \n",
    "    for i in range(k):\n",
    "        x=topk[i][0].split('/')\n",
    "        Predicted.append(x[0])\n",
    "    HardPredicted=Hard_Predicted(Predicted)\n",
    "    Prob=Probability(Predicted,k)\n",
    "    Predicted_Label.append(HardPredicted)\n",
    "    Predicted_Probability.append(Prob)"
   ]
  },
  {
   "cell_type": "code",
   "execution_count": 185,
   "metadata": {},
   "outputs": [],
   "source": [
    "Actual_Label=[]\n",
    "for term in Test_Doc_Vec:\n",
    "    x=term.split('/')\n",
    "    Actual_Label.append(x[0])"
   ]
  },
  {
   "cell_type": "code",
   "execution_count": 112,
   "metadata": {
    "collapsed": true
   },
   "outputs": [
    {
     "name": "stdout",
     "output_type": "stream",
     "text": [
      "[['comp.graphics'], ['comp.graphics'], ['talk.politics.misc'], ['comp.graphics'], ['comp.graphics'], ['rec.sport.hockey'], ['comp.graphics'], ['comp.graphics'], ['comp.graphics'], ['comp.graphics'], ['rec.sport.hockey'], ['rec.sport.hockey'], ['comp.graphics'], ['comp.graphics'], ['comp.graphics'], ['comp.graphics'], ['comp.graphics'], ['comp.graphics'], ['comp.graphics'], ['comp.graphics'], ['comp.graphics'], ['comp.graphics'], ['comp.graphics'], ['comp.graphics'], ['comp.graphics'], ['comp.graphics'], ['comp.graphics'], ['comp.graphics'], ['sci.med'], ['comp.graphics'], ['comp.graphics'], ['comp.graphics'], ['comp.graphics'], ['talk.politics.misc'], ['comp.graphics'], ['comp.graphics'], ['comp.graphics'], ['comp.graphics'], ['comp.graphics'], ['comp.graphics'], ['comp.graphics'], ['comp.graphics'], ['comp.graphics'], ['sci.space'], ['comp.graphics'], ['comp.graphics'], ['comp.graphics'], ['comp.graphics'], ['sci.med'], ['comp.graphics'], ['comp.graphics'], ['sci.med'], ['comp.graphics'], ['comp.graphics'], ['sci.space'], ['comp.graphics'], ['comp.graphics'], ['comp.graphics'], ['comp.graphics'], ['sci.med'], ['comp.graphics'], ['comp.graphics'], ['comp.graphics'], ['rec.sport.hockey'], ['comp.graphics'], ['comp.graphics'], ['comp.graphics'], ['comp.graphics'], ['comp.graphics'], ['sci.space'], ['comp.graphics'], ['comp.graphics'], ['comp.graphics'], ['sci.space'], ['comp.graphics'], ['comp.graphics'], ['comp.graphics'], ['comp.graphics'], ['comp.graphics'], ['comp.graphics'], ['comp.graphics'], ['comp.graphics'], ['sci.med'], ['comp.graphics'], ['comp.graphics'], ['comp.graphics'], ['comp.graphics'], ['talk.politics.misc'], ['comp.graphics'], ['comp.graphics'], ['sci.space'], ['talk.politics.misc'], ['comp.graphics'], ['talk.politics.misc'], ['rec.sport.hockey'], ['comp.graphics'], ['comp.graphics'], ['comp.graphics'], ['comp.graphics'], ['comp.graphics'], ['comp.graphics'], ['comp.graphics'], ['comp.graphics'], ['sci.space'], ['comp.graphics'], ['comp.graphics'], ['comp.graphics'], ['talk.politics.misc'], ['comp.graphics'], ['comp.graphics'], ['sci.med'], ['comp.graphics'], ['comp.graphics'], ['sci.space'], ['comp.graphics'], ['comp.graphics'], ['comp.graphics'], ['comp.graphics'], ['comp.graphics'], ['comp.graphics'], ['comp.graphics'], ['comp.graphics'], ['sci.space'], ['comp.graphics'], ['comp.graphics'], ['comp.graphics'], ['sci.space'], ['comp.graphics'], ['rec.sport.hockey'], ['sci.med'], ['comp.graphics'], ['comp.graphics'], ['comp.graphics'], ['comp.graphics'], ['comp.graphics'], ['sci.space'], ['comp.graphics'], ['comp.graphics'], ['rec.sport.hockey'], ['comp.graphics'], ['comp.graphics'], ['comp.graphics'], ['comp.graphics'], ['comp.graphics'], ['sci.space'], ['talk.politics.misc'], ['comp.graphics'], ['comp.graphics'], ['comp.graphics'], ['comp.graphics'], ['comp.graphics'], ['rec.sport.hockey'], ['comp.graphics'], ['comp.graphics'], ['comp.graphics'], ['rec.sport.hockey'], ['comp.graphics'], ['talk.politics.misc'], ['comp.graphics'], ['comp.graphics'], ['comp.graphics'], ['comp.graphics'], ['comp.graphics'], ['comp.graphics'], ['comp.graphics'], ['comp.graphics'], ['comp.graphics'], ['comp.graphics'], ['sci.med'], ['comp.graphics'], ['comp.graphics'], ['comp.graphics'], ['comp.graphics'], ['comp.graphics'], ['sci.space'], ['comp.graphics'], ['sci.space'], ['rec.sport.hockey'], ['talk.politics.misc'], ['comp.graphics'], ['talk.politics.misc'], ['sci.space'], ['comp.graphics'], ['comp.graphics'], ['comp.graphics'], ['comp.graphics'], ['comp.graphics'], ['comp.graphics'], ['comp.graphics'], ['talk.politics.misc'], ['comp.graphics'], ['sci.med'], ['comp.graphics'], ['comp.graphics'], ['comp.graphics'], ['comp.graphics'], ['comp.graphics'], ['comp.graphics'], ['comp.graphics'], ['rec.sport.hockey'], ['rec.sport.hockey'], ['rec.sport.hockey'], ['rec.sport.hockey'], ['rec.sport.hockey'], ['rec.sport.hockey'], ['rec.sport.hockey'], ['rec.sport.hockey'], ['rec.sport.hockey'], ['rec.sport.hockey'], ['rec.sport.hockey'], ['rec.sport.hockey'], ['rec.sport.hockey'], ['rec.sport.hockey'], ['rec.sport.hockey'], ['comp.graphics'], ['rec.sport.hockey'], ['rec.sport.hockey'], ['rec.sport.hockey'], ['rec.sport.hockey'], ['sci.med'], ['rec.sport.hockey'], ['rec.sport.hockey'], ['rec.sport.hockey'], ['rec.sport.hockey'], ['rec.sport.hockey'], ['rec.sport.hockey'], ['comp.graphics'], ['rec.sport.hockey'], ['talk.politics.misc'], ['rec.sport.hockey'], ['rec.sport.hockey'], ['rec.sport.hockey'], ['rec.sport.hockey'], ['rec.sport.hockey'], ['rec.sport.hockey'], ['rec.sport.hockey'], ['rec.sport.hockey'], ['rec.sport.hockey'], ['rec.sport.hockey'], ['rec.sport.hockey'], ['rec.sport.hockey'], ['rec.sport.hockey'], ['rec.sport.hockey'], ['sci.med'], ['sci.med'], ['rec.sport.hockey'], ['rec.sport.hockey'], ['rec.sport.hockey'], ['rec.sport.hockey'], ['rec.sport.hockey'], ['rec.sport.hockey'], ['rec.sport.hockey'], ['rec.sport.hockey'], ['rec.sport.hockey'], ['rec.sport.hockey'], ['rec.sport.hockey'], ['rec.sport.hockey'], ['rec.sport.hockey'], ['rec.sport.hockey'], ['rec.sport.hockey'], ['rec.sport.hockey'], ['rec.sport.hockey'], ['rec.sport.hockey'], ['rec.sport.hockey'], ['rec.sport.hockey'], ['rec.sport.hockey'], ['rec.sport.hockey'], ['rec.sport.hockey'], ['rec.sport.hockey'], ['comp.graphics'], ['rec.sport.hockey'], ['rec.sport.hockey'], ['rec.sport.hockey'], ['rec.sport.hockey'], ['rec.sport.hockey'], ['rec.sport.hockey'], ['rec.sport.hockey'], ['rec.sport.hockey'], ['rec.sport.hockey'], ['rec.sport.hockey'], ['rec.sport.hockey'], ['rec.sport.hockey'], ['rec.sport.hockey'], ['rec.sport.hockey'], ['rec.sport.hockey'], ['rec.sport.hockey'], ['rec.sport.hockey'], ['rec.sport.hockey'], ['rec.sport.hockey'], ['rec.sport.hockey'], ['sci.med'], ['rec.sport.hockey'], ['rec.sport.hockey'], ['rec.sport.hockey'], ['rec.sport.hockey'], ['rec.sport.hockey'], ['rec.sport.hockey'], ['rec.sport.hockey'], ['talk.politics.misc'], ['rec.sport.hockey'], ['rec.sport.hockey'], ['sci.med'], ['rec.sport.hockey'], ['sci.med'], ['rec.sport.hockey'], ['rec.sport.hockey'], ['comp.graphics'], ['rec.sport.hockey'], ['sci.space'], ['rec.sport.hockey'], ['rec.sport.hockey'], ['rec.sport.hockey'], ['rec.sport.hockey'], ['rec.sport.hockey'], ['rec.sport.hockey'], ['rec.sport.hockey'], ['rec.sport.hockey'], ['rec.sport.hockey'], ['rec.sport.hockey'], ['rec.sport.hockey'], ['rec.sport.hockey'], ['rec.sport.hockey'], ['rec.sport.hockey'], ['rec.sport.hockey'], ['rec.sport.hockey'], ['sci.med'], ['rec.sport.hockey'], ['rec.sport.hockey'], ['comp.graphics'], ['rec.sport.hockey'], ['rec.sport.hockey'], ['rec.sport.hockey'], ['rec.sport.hockey'], ['rec.sport.hockey'], ['rec.sport.hockey'], ['rec.sport.hockey'], ['rec.sport.hockey'], ['talk.politics.misc'], ['rec.sport.hockey'], ['rec.sport.hockey'], ['rec.sport.hockey'], ['rec.sport.hockey'], ['rec.sport.hockey'], ['rec.sport.hockey'], ['rec.sport.hockey'], ['rec.sport.hockey'], ['rec.sport.hockey'], ['rec.sport.hockey'], ['rec.sport.hockey'], ['sci.med'], ['rec.sport.hockey'], ['rec.sport.hockey'], ['rec.sport.hockey'], ['sci.med'], ['sci.med'], ['rec.sport.hockey'], ['rec.sport.hockey'], ['rec.sport.hockey'], ['sci.space'], ['rec.sport.hockey'], ['rec.sport.hockey'], ['rec.sport.hockey'], ['rec.sport.hockey'], ['rec.sport.hockey'], ['rec.sport.hockey'], ['rec.sport.hockey'], ['rec.sport.hockey'], ['comp.graphics'], ['rec.sport.hockey'], ['rec.sport.hockey'], ['rec.sport.hockey'], ['rec.sport.hockey'], ['rec.sport.hockey'], ['rec.sport.hockey'], ['rec.sport.hockey'], ['sci.space'], ['rec.sport.hockey'], ['rec.sport.hockey'], ['rec.sport.hockey'], ['comp.graphics'], ['rec.sport.hockey'], ['rec.sport.hockey'], ['rec.sport.hockey'], ['rec.sport.hockey'], ['rec.sport.hockey'], ['rec.sport.hockey'], ['rec.sport.hockey'], ['rec.sport.hockey'], ['rec.sport.hockey'], ['rec.sport.hockey'], ['talk.politics.misc'], ['rec.sport.hockey'], ['sci.space'], ['rec.sport.hockey'], ['rec.sport.hockey'], ['rec.sport.hockey'], ['rec.sport.hockey'], ['rec.sport.hockey'], ['rec.sport.hockey'], ['rec.sport.hockey'], ['comp.graphics'], ['sci.med'], ['comp.graphics'], ['sci.med'], ['sci.med'], ['sci.med'], ['sci.med'], ['sci.med'], ['sci.med'], ['sci.med'], ['sci.med'], ['sci.med'], ['comp.graphics'], ['sci.med'], ['rec.sport.hockey'], ['talk.politics.misc'], ['sci.med'], ['sci.med'], ['sci.med'], ['sci.med'], ['sci.med'], ['sci.med'], ['sci.med'], ['comp.graphics'], ['sci.med'], ['sci.med'], ['sci.space'], ['comp.graphics'], ['sci.med'], ['sci.med'], ['sci.med'], ['sci.med'], ['sci.med'], ['talk.politics.misc'], ['sci.med'], ['sci.med'], ['sci.med'], ['sci.med'], ['sci.med'], ['sci.med'], ['sci.med'], ['comp.graphics'], ['rec.sport.hockey'], ['rec.sport.hockey'], ['talk.politics.misc'], ['sci.med'], ['sci.med'], ['sci.med'], ['sci.med'], ['sci.med'], ['sci.med'], ['sci.med'], ['sci.space'], ['sci.med'], ['comp.graphics'], ['rec.sport.hockey'], ['sci.med'], ['sci.med'], ['sci.med'], ['sci.med'], ['sci.med'], ['sci.med'], ['sci.med'], ['sci.space'], ['sci.med'], ['sci.med'], ['talk.politics.misc'], ['talk.politics.misc'], ['rec.sport.hockey'], ['sci.med'], ['sci.med'], ['sci.med'], ['sci.med'], ['sci.space'], ['sci.med'], ['rec.sport.hockey'], ['sci.med'], ['sci.med'], ['sci.med'], ['sci.med'], ['rec.sport.hockey'], ['sci.med'], ['sci.space'], ['sci.med'], ['sci.med'], ['comp.graphics'], ['sci.med'], ['sci.med'], ['sci.med'], ['sci.med'], ['sci.med'], ['sci.med'], ['comp.graphics'], ['sci.med'], ['sci.med'], ['comp.graphics'], ['sci.med'], ['rec.sport.hockey'], ['sci.med'], ['talk.politics.misc'], ['sci.med'], ['comp.graphics'], ['sci.med'], ['sci.med'], ['comp.graphics'], ['sci.med'], ['sci.med'], ['sci.med'], ['sci.med'], ['rec.sport.hockey'], ['sci.med'], ['comp.graphics'], ['comp.graphics'], ['sci.med'], ['sci.med'], ['sci.med'], ['sci.med'], ['rec.sport.hockey'], ['comp.graphics'], ['sci.med'], ['sci.med'], ['sci.med'], ['sci.med'], ['rec.sport.hockey'], ['sci.med'], ['sci.med'], ['sci.med'], ['sci.med'], ['talk.politics.misc'], ['rec.sport.hockey'], ['sci.med'], ['sci.med'], ['sci.med'], ['sci.med'], ['sci.med'], ['sci.med'], ['sci.med'], ['talk.politics.misc'], ['sci.med'], ['sci.med'], ['sci.med'], ['sci.med'], ['sci.med'], ['sci.med'], ['sci.med'], ['sci.med'], ['sci.med'], ['sci.med'], ['sci.med'], ['sci.med'], ['sci.med'], ['sci.med'], ['sci.med'], ['sci.med'], ['sci.med'], ['sci.med'], ['sci.med'], ['sci.med'], ['comp.graphics'], ['rec.sport.hockey'], ['sci.med'], ['sci.med'], ['sci.med'], ['sci.med'], ['sci.med'], ['sci.med'], ['sci.space'], ['comp.graphics'], ['sci.med'], ['sci.med'], ['sci.med'], ['sci.space'], ['sci.space'], ['sci.med'], ['comp.graphics'], ['sci.med'], ['sci.med'], ['sci.med'], ['sci.space'], ['sci.space'], ['sci.med'], ['rec.sport.hockey'], ['sci.med'], ['sci.med'], ['sci.med'], ['sci.med'], ['sci.med'], ['sci.space'], ['sci.med'], ['comp.graphics'], ['sci.med'], ['sci.med'], ['talk.politics.misc'], ['talk.politics.misc'], ['sci.med'], ['rec.sport.hockey'], ['sci.med'], ['talk.politics.misc'], ['sci.med'], ['talk.politics.misc'], ['sci.space'], ['sci.space'], ['sci.space'], ['sci.space'], ['sci.space'], ['sci.space'], ['sci.space'], ['sci.space'], ['sci.space'], ['sci.space'], ['sci.space'], ['sci.space'], ['sci.space'], ['sci.space'], ['sci.space'], ['sci.space'], ['sci.space'], ['sci.space'], ['sci.med'], ['sci.space'], ['sci.space'], ['sci.med'], ['sci.space'], ['sci.space'], ['sci.space'], ['sci.space'], ['sci.space'], ['sci.space'], ['sci.space'], ['sci.space'], ['sci.space'], ['sci.space'], ['sci.space'], ['sci.med'], ['sci.space'], ['sci.space'], ['sci.space'], ['sci.med'], ['sci.space'], ['sci.space'], ['sci.space'], ['sci.space'], ['sci.space'], ['sci.space'], ['sci.space'], ['sci.space'], ['rec.sport.hockey'], ['sci.space'], ['sci.space'], ['sci.space'], ['sci.space'], ['sci.space'], ['sci.space'], ['sci.space'], ['sci.space'], ['sci.space'], ['sci.space'], ['sci.space'], ['sci.space'], ['sci.space'], ['sci.space'], ['sci.space'], ['sci.space'], ['sci.space'], ['comp.graphics'], ['sci.space'], ['sci.space'], ['sci.space'], ['comp.graphics'], ['sci.med'], ['sci.med'], ['sci.med'], ['sci.med'], ['sci.space'], ['sci.space'], ['sci.space'], ['sci.space'], ['sci.space'], ['sci.space'], ['sci.space'], ['sci.space'], ['sci.space'], ['sci.space'], ['sci.space'], ['sci.space'], ['sci.space'], ['sci.med'], ['sci.space'], ['sci.space'], ['sci.space'], ['sci.space'], ['rec.sport.hockey'], ['sci.space'], ['sci.space'], ['sci.space'], ['sci.space'], ['sci.space'], ['comp.graphics'], ['sci.space'], ['comp.graphics'], ['sci.space'], ['sci.space'], ['sci.space'], ['sci.space'], ['sci.space'], ['sci.space'], ['sci.space'], ['sci.space'], ['sci.space'], ['talk.politics.misc'], ['sci.space'], ['talk.politics.misc'], ['sci.space'], ['sci.space'], ['sci.space'], ['sci.med'], ['sci.space'], ['comp.graphics'], ['sci.space'], ['sci.space'], ['sci.space'], ['comp.graphics'], ['rec.sport.hockey'], ['sci.space'], ['sci.space'], ['sci.space'], ['sci.med'], ['sci.space'], ['sci.med'], ['sci.space'], ['sci.space'], ['sci.space'], ['sci.space'], ['sci.space'], ['sci.space'], ['sci.space'], ['sci.space'], ['sci.space'], ['sci.space'], ['sci.space'], ['sci.space'], ['sci.space'], ['sci.space'], ['sci.space'], ['sci.space'], ['sci.space'], ['sci.space'], ['sci.space'], ['sci.space'], ['sci.space'], ['sci.space'], ['sci.space'], ['sci.space'], ['sci.space'], ['sci.space'], ['sci.med'], ['sci.space'], ['sci.space'], ['sci.space'], ['sci.space'], ['sci.space'], ['sci.space'], ['sci.space'], ['sci.space'], ['sci.space'], ['sci.space'], ['sci.space'], ['sci.space'], ['talk.politics.misc'], ['talk.politics.misc'], ['talk.politics.misc'], ['sci.space'], ['sci.space'], ['comp.graphics'], ['sci.space'], ['sci.space'], ['sci.space'], ['sci.space'], ['sci.space'], ['sci.space'], ['sci.space'], ['talk.politics.misc'], ['sci.space'], ['comp.graphics'], ['sci.med'], ['sci.med'], ['sci.space'], ['sci.space'], ['sci.space'], ['comp.graphics'], ['sci.space'], ['sci.space'], ['sci.space'], ['sci.space'], ['talk.politics.misc'], ['comp.graphics'], ['sci.space'], ['sci.space'], ['sci.med'], ['sci.med'], ['talk.politics.misc'], ['talk.politics.misc'], ['talk.politics.misc'], ['talk.politics.misc'], ['sci.space'], ['talk.politics.misc'], ['talk.politics.misc'], ['talk.politics.misc'], ['talk.politics.misc'], ['talk.politics.misc'], ['talk.politics.misc'], ['talk.politics.misc'], ['talk.politics.misc'], ['talk.politics.misc'], ['talk.politics.misc'], ['talk.politics.misc'], ['talk.politics.misc'], ['comp.graphics'], ['talk.politics.misc'], ['talk.politics.misc'], ['talk.politics.misc'], ['talk.politics.misc'], ['talk.politics.misc'], ['sci.space'], ['talk.politics.misc'], ['talk.politics.misc'], ['talk.politics.misc'], ['talk.politics.misc'], ['talk.politics.misc'], ['talk.politics.misc'], ['talk.politics.misc'], ['talk.politics.misc'], ['talk.politics.misc'], ['talk.politics.misc'], ['talk.politics.misc'], ['talk.politics.misc'], ['talk.politics.misc'], ['talk.politics.misc'], ['talk.politics.misc'], ['talk.politics.misc'], ['talk.politics.misc'], ['sci.space'], ['talk.politics.misc'], ['talk.politics.misc'], ['rec.sport.hockey'], ['rec.sport.hockey'], ['talk.politics.misc'], ['talk.politics.misc'], ['talk.politics.misc'], ['talk.politics.misc'], ['talk.politics.misc'], ['talk.politics.misc'], ['talk.politics.misc'], ['talk.politics.misc'], ['talk.politics.misc'], ['talk.politics.misc'], ['talk.politics.misc'], ['talk.politics.misc'], ['talk.politics.misc'], ['talk.politics.misc'], ['talk.politics.misc'], ['talk.politics.misc'], ['talk.politics.misc'], ['comp.graphics'], ['talk.politics.misc'], ['talk.politics.misc'], ['talk.politics.misc'], ['talk.politics.misc'], ['talk.politics.misc'], ['talk.politics.misc'], ['talk.politics.misc'], ['comp.graphics'], ['talk.politics.misc'], ['talk.politics.misc'], ['talk.politics.misc'], ['talk.politics.misc'], ['talk.politics.misc'], ['sci.med'], ['talk.politics.misc'], ['sci.med'], ['talk.politics.misc'], ['talk.politics.misc'], ['talk.politics.misc'], ['talk.politics.misc'], ['rec.sport.hockey'], ['talk.politics.misc'], ['talk.politics.misc'], ['talk.politics.misc'], ['talk.politics.misc'], ['talk.politics.misc'], ['comp.graphics'], ['comp.graphics'], ['talk.politics.misc'], ['talk.politics.misc'], ['comp.graphics'], ['talk.politics.misc'], ['talk.politics.misc'], ['comp.graphics'], ['comp.graphics'], ['talk.politics.misc'], ['comp.graphics'], ['talk.politics.misc'], ['talk.politics.misc'], ['talk.politics.misc'], ['talk.politics.misc'], ['talk.politics.misc'], ['talk.politics.misc'], ['comp.graphics'], ['talk.politics.misc'], ['talk.politics.misc'], ['talk.politics.misc'], ['talk.politics.misc'], ['talk.politics.misc'], ['sci.med'], ['talk.politics.misc'], ['talk.politics.misc'], ['talk.politics.misc'], ['talk.politics.misc'], ['talk.politics.misc'], ['talk.politics.misc'], ['talk.politics.misc'], ['talk.politics.misc'], ['talk.politics.misc'], ['talk.politics.misc'], ['talk.politics.misc'], ['talk.politics.misc'], ['talk.politics.misc'], ['talk.politics.misc'], ['talk.politics.misc'], ['talk.politics.misc'], ['sci.med'], ['sci.med'], ['talk.politics.misc'], ['talk.politics.misc'], ['talk.politics.misc'], ['talk.politics.misc'], ['talk.politics.misc'], ['talk.politics.misc'], ['sci.space'], ['talk.politics.misc'], ['talk.politics.misc'], ['talk.politics.misc'], ['talk.politics.misc'], ['talk.politics.misc'], ['talk.politics.misc'], ['talk.politics.misc'], ['talk.politics.misc'], ['talk.politics.misc'], ['talk.politics.misc'], ['talk.politics.misc'], ['talk.politics.misc'], ['talk.politics.misc'], ['talk.politics.misc'], ['talk.politics.misc'], ['talk.politics.misc'], ['talk.politics.misc'], ['talk.politics.misc'], ['talk.politics.misc'], ['talk.politics.misc'], ['talk.politics.misc'], ['talk.politics.misc'], ['sci.med'], ['talk.politics.misc'], ['sci.med'], ['talk.politics.misc'], ['talk.politics.misc'], ['talk.politics.misc'], ['talk.politics.misc'], ['talk.politics.misc'], ['talk.politics.misc'], ['comp.graphics'], ['talk.politics.misc'], ['talk.politics.misc'], ['talk.politics.misc'], ['talk.politics.misc'], ['talk.politics.misc'], ['comp.graphics'], ['talk.politics.misc'], ['talk.politics.misc'], ['talk.politics.misc'], ['talk.politics.misc'], ['talk.politics.misc'], ['talk.politics.misc'], ['talk.politics.misc'], ['talk.politics.misc'], ['talk.politics.misc'], ['talk.politics.misc'], ['talk.politics.misc'], ['talk.politics.misc'], ['talk.politics.misc'], ['talk.politics.misc'], ['talk.politics.misc'], ['talk.politics.misc'], ['talk.politics.misc'], ['talk.politics.misc'], ['talk.politics.misc'], ['talk.politics.misc'], ['talk.politics.misc'], ['sci.space'], ['talk.politics.misc']]\n"
     ]
    }
   ],
   "source": [
    "print(Predicted_Label)"
   ]
  },
  {
   "cell_type": "markdown",
   "metadata": {},
   "source": [
    "# Accuracy"
   ]
  },
  {
   "cell_type": "code",
   "execution_count": 186,
   "metadata": {},
   "outputs": [
    {
     "name": "stdout",
     "output_type": "stream",
     "text": [
      "0.8052\n"
     ]
    }
   ],
   "source": [
    "def Accuracy(Predicted,Actual):\n",
    "    c=0\n",
    "    for i in range(len(Actual)):\n",
    "        if Predicted[i][0]==Actual[i]:\n",
    "            c=c+1\n",
    "    return (c)/len(Actual)\n",
    "acc=Accuracy(Predicted_Label,Actual_Label)\n",
    "print(acc)"
   ]
  },
  {
   "cell_type": "code",
   "execution_count": 187,
   "metadata": {},
   "outputs": [],
   "source": [
    "Probability_Class=pd.DataFrame(Predicted_Probability)\n",
    "prob_0=Probability_Class[1]\n",
    "Actual=[]\n",
    "for i in range(5):\n",
    "    for j in range((500)):\n",
    "        Actual.append(i)"
   ]
  },
  {
   "cell_type": "code",
   "execution_count": 188,
   "metadata": {},
   "outputs": [
    {
     "data": {
      "image/png": "[encoded data removed]",
      "text/plain": [
       "<Figure size 432x288 with 1 Axes>"
      ]
     },
     "metadata": {
      "needs_background": "light"
     },
     "output_type": "display_data"
    }
   ],
   "source": [
    "import matplotlib.pyplot as py\n",
    "l=['forclass comp.graphics',\n",
    "'forclass rec.sport.hockey',\n",
    "'forclass sci.med',\n",
    "'forclass sci.space',\n",
    "'forclass talk.politics.misc']\n",
    "for i in range(5):\n",
    "    fpr, tpr,thresholds= ROC(Actual, Probability_Class[i], pos_label=i)\n",
    "    py.title(\"ROC Curve \")\n",
    "    py.plot(fpr,tpr,label=l[i])\n",
    "py.xlabel(\"False Positive Rate\")\n",
    "py.ylabel(\"True Positive Rate\")\n",
    "py.legend()\n",
    "py.show()"
   ]
  },
  {
   "cell_type": "code",
   "execution_count": 189,
   "metadata": {},
   "outputs": [],
   "source": [
    "list1=['comp.graphics',\n",
    "'rec.sport.hockey',\n",
    "'sci.med',\n",
    "'sci.space',\n",
    "'talk.politics.misc']\n",
    "Predicted_label1=[]\n",
    "for i in range(len(Predicted_Label)):\n",
    "    if Predicted_Label[i][0]==list1[0]:\n",
    "        Predicted_label1.append(0)\n",
    "    elif Predicted_Label[i][0]==list1[1]:\n",
    "        Predicted_label1.append(1)\n",
    "    elif Predicted_Label[i][0]==list1[2]:\n",
    "        Predicted_label1.append(2)\n",
    "    elif Predicted_Label[i][0]==list1[3]:\n",
    "        Predicted_label1.append(3)\n",
    "    elif Predicted_Label[i][0]==list1[4]:\n",
    "        Predicted_label1.append(4)\n",
    "# Actual_label=[]\n",
    "# for i in range(len(Actual)):\n",
    "#     if Actual[i]==list1[0]:\n",
    "#         Actual_label.append((Actual[i],0))\n",
    "#     if Actual[i]==list1[1]:\n",
    "#         Actual_label.append((Actual[i],1))\n",
    "#     if Actual[i]==list1[2]:\n",
    "#         Actual_label.append((Actual[i],2))\n",
    "#     if Actual[i]==list1[3]:\n",
    "#         Actual_label.append((Actual[i],3))\n",
    "#     if Actual[i]==list1[4]:\n",
    "#         Actual_label.append((Actual[i],4))"
   ]
  },
  {
   "cell_type": "code",
   "execution_count": 181,
   "metadata": {},
   "outputs": [
    {
     "name": "stdout",
     "output_type": "stream",
     "text": [
      "2500\n"
     ]
    }
   ],
   "source": [
    "print(len(Predicted_label1))"
   ]
  },
  {
   "cell_type": "code",
   "execution_count": 182,
   "metadata": {
    "collapsed": true
   },
   "outputs": [
    {
     "name": "stdout",
     "output_type": "stream",
     "text": [
      "[0, 0, 0, 0, 0, 0, 0, 0, 0, 0, 0, 0, 0, 0, 0, 0, 0, 0, 0, 0, 0, 0, 0, 0, 0, 0, 0, 0, 0, 0, 0, 0, 0, 0, 0, 0, 0, 0, 0, 0, 0, 0, 0, 0, 0, 0, 0, 0, 0, 0, 0, 0, 0, 0, 0, 0, 0, 0, 0, 0, 0, 0, 0, 0, 0, 0, 0, 0, 0, 0, 0, 0, 0, 0, 0, 0, 0, 0, 0, 0, 0, 0, 0, 0, 0, 0, 0, 0, 0, 0, 0, 0, 0, 0, 0, 0, 0, 0, 0, 0, 0, 0, 0, 0, 0, 0, 0, 0, 0, 0, 0, 0, 0, 0, 0, 0, 0, 0, 0, 0, 0, 0, 0, 0, 0, 0, 0, 0, 0, 0, 0, 0, 0, 0, 0, 0, 0, 0, 0, 0, 0, 0, 0, 0, 0, 0, 0, 0, 0, 0, 0, 0, 0, 0, 0, 0, 0, 0, 0, 0, 0, 0, 0, 0, 0, 0, 0, 0, 0, 0, 0, 0, 0, 0, 0, 0, 0, 0, 0, 0, 0, 0, 0, 0, 0, 0, 0, 0, 0, 0, 0, 0, 0, 0, 0, 0, 0, 0, 0, 0, 0, 0, 0, 0, 0, 0, 0, 0, 0, 0, 0, 0, 0, 0, 0, 0, 0, 0, 0, 0, 0, 0, 0, 0, 0, 0, 0, 0, 0, 0, 0, 0, 0, 0, 0, 0, 0, 0, 0, 0, 0, 0, 0, 0, 0, 0, 0, 0, 0, 0, 0, 0, 0, 0, 0, 0, 0, 0, 0, 0, 0, 0, 0, 0, 0, 0, 0, 0, 0, 0, 0, 0, 0, 0, 0, 0, 0, 0, 0, 0, 0, 0, 0, 0, 0, 0, 0, 0, 0, 0, 0, 0, 0, 0, 0, 0, 0, 0, 0, 0, 0, 0, 0, 0, 0, 0, 0, 0, 0, 0, 0, 0, 0, 0, 0, 0, 0, 0, 0, 0, 0, 0, 0, 0, 0, 0, 0, 0, 0, 0, 0, 0, 0, 0, 0, 0, 0, 0, 0, 0, 0, 0, 0, 0, 0, 0, 0, 0, 0, 0, 0, 0, 0, 0, 0, 0, 0, 0, 0, 0, 0, 0, 0, 0, 0, 0, 0, 0, 0, 0, 0, 0, 0, 0, 0, 0, 0, 0, 0, 0, 0, 0, 0, 0, 0, 0, 0, 0, 0, 0, 0, 0, 0, 0, 0, 0, 0, 0, 0, 0, 0, 0, 0, 0, 0, 0, 0, 0, 0, 0, 0, 0, 0, 0, 0, 0, 0, 0, 0, 0, 0, 0, 0, 0, 0, 0, 0, 0, 0, 0, 0, 0, 0, 0, 0, 0, 0, 0, 0, 0, 0, 0, 0, 0, 0, 0, 0, 0, 0, 0, 0, 0, 0, 0, 0, 0, 0, 0, 0, 0, 0, 0, 0, 0, 0, 0, 0, 0, 0, 0, 0, 0, 0, 0, 0, 0, 0, 0, 0, 0, 0, 0, 0, 0, 0, 0, 0, 0, 0, 0, 0, 0, 0, 0, 0, 0, 0, 0, 0, 0, 1, 1, 1, 1, 1, 1, 1, 1, 1, 1, 1, 1, 1, 1, 1, 1, 1, 1, 1, 1, 1, 1, 1, 1, 1, 1, 1, 1, 1, 1, 1, 1, 1, 1, 1, 1, 1, 1, 1, 1, 1, 1, 1, 1, 1, 1, 1, 1, 1, 1, 1, 1, 1, 1, 1, 1, 1, 1, 1, 1, 1, 1, 1, 1, 1, 1, 1, 1, 1, 1, 1, 1, 1, 1, 1, 1, 1, 1, 1, 1, 1, 1, 1, 1, 1, 1, 1, 1, 1, 1, 1, 1, 1, 1, 1, 1, 1, 1, 1, 1, 1, 1, 1, 1, 1, 1, 1, 1, 1, 1, 1, 1, 1, 1, 1, 1, 1, 1, 1, 1, 1, 1, 1, 1, 1, 1, 1, 1, 1, 1, 1, 1, 1, 1, 1, 1, 1, 1, 1, 1, 1, 1, 1, 1, 1, 1, 1, 1, 1, 1, 1, 1, 1, 1, 1, 1, 1, 1, 1, 1, 1, 1, 1, 1, 1, 1, 1, 1, 1, 1, 1, 1, 1, 1, 1, 1, 1, 1, 1, 1, 1, 1, 1, 1, 1, 1, 1, 1, 1, 1, 1, 1, 1, 1, 1, 1, 1, 1, 1, 1, 1, 1, 1, 1, 1, 1, 1, 1, 1, 1, 1, 1, 1, 1, 1, 1, 1, 1, 1, 1, 1, 1, 1, 1, 1, 1, 1, 1, 1, 1, 1, 1, 1, 1, 1, 1, 1, 1, 1, 1, 1, 1, 1, 1, 1, 1, 1, 1, 1, 1, 1, 1, 1, 1, 1, 1, 1, 1, 1, 1, 1, 1, 1, 1, 1, 1, 1, 1, 1, 1, 1, 1, 1, 1, 1, 1, 1, 1, 1, 1, 1, 1, 1, 1, 1, 1, 1, 1, 1, 1, 1, 1, 1, 1, 1, 1, 1, 1, 1, 1, 1, 1, 1, 1, 1, 1, 1, 1, 1, 1, 1, 1, 1, 1, 1, 1, 1, 1, 1, 1, 1, 1, 1, 1, 1, 1, 1, 1, 1, 1, 1, 1, 1, 1, 1, 1, 1, 1, 1, 1, 1, 1, 1, 1, 1, 1, 1, 1, 1, 1, 1, 1, 1, 1, 1, 1, 1, 1, 1, 1, 1, 1, 1, 1, 1, 1, 1, 1, 1, 1, 1, 1, 1, 1, 1, 1, 1, 1, 1, 1, 1, 1, 1, 1, 1, 1, 1, 1, 1, 1, 1, 1, 1, 1, 1, 1, 1, 1, 1, 1, 1, 1, 1, 1, 1, 1, 1, 1, 1, 1, 1, 1, 1, 1, 1, 1, 1, 1, 1, 1, 1, 1, 1, 1, 1, 1, 1, 1, 1, 1, 1, 1, 1, 1, 1, 1, 1, 1, 1, 1, 1, 1, 1, 1, 1, 1, 1, 1, 1, 1, 1, 1, 1, 1, 1, 1, 1, 1, 1, 1, 1, 1, 1, 1, 1, 1, 1, 1, 1, 1, 1, 1, 1, 1, 1, 1, 1, 1, 1, 1, 1, 1, 1, 1, 1, 1, 1, 1, 1, 1, 1, 1, 1, 1, 1, 1, 1, 1, 1, 1, 2, 2, 2, 2, 2, 2, 2, 2, 2, 2, 2, 2, 2, 2, 2, 2, 2, 2, 2, 2, 2, 2, 2, 2, 2, 2, 2, 2, 2, 2, 2, 2, 2, 2, 2, 2, 2, 2, 2, 2, 2, 2, 2, 2, 2, 2, 2, 2, 2, 2, 2, 2, 2, 2, 2, 2, 2, 2, 2, 2, 2, 2, 2, 2, 2, 2, 2, 2, 2, 2, 2, 2, 2, 2, 2, 2, 2, 2, 2, 2, 2, 2, 2, 2, 2, 2, 2, 2, 2, 2, 2, 2, 2, 2, 2, 2, 2, 2, 2, 2, 2, 2, 2, 2, 2, 2, 2, 2, 2, 2, 2, 2, 2, 2, 2, 2, 2, 2, 2, 2, 2, 2, 2, 2, 2, 2, 2, 2, 2, 2, 2, 2, 2, 2, 2, 2, 2, 2, 2, 2, 2, 2, 2, 2, 2, 2, 2, 2, 2, 2, 2, 2, 2, 2, 2, 2, 2, 2, 2, 2, 2, 2, 2, 2, 2, 2, 2, 2, 2, 2, 2, 2, 2, 2, 2, 2, 2, 2, 2, 2, 2, 2, 2, 2, 2, 2, 2, 2, 2, 2, 2, 2, 2, 2, 2, 2, 2, 2, 2, 2, 2, 2, 2, 2, 2, 2, 2, 2, 2, 2, 2, 2, 2, 2, 2, 2, 2, 2, 2, 2, 2, 2, 2, 2, 2, 2, 2, 2, 2, 2, 2, 2, 2, 2, 2, 2, 2, 2, 2, 2, 2, 2, 2, 2, 2, 2, 2, 2, 2, 2, 2, 2, 2, 2, 2, 2, 2, 2, 2, 2, 2, 2, 2, 2, 2, 2, 2, 2, 2, 2, 2, 2, 2, 2, 2, 2, 2, 2, 2, 2, 2, 2, 2, 2, 2, 2, 2, 2, 2, 2, 2, 2, 2, 2, 2, 2, 2, 2, 2, 2, 2, 2, 2, 2, 2, 2, 2, 2, 2, 2, 2, 2, 2, 2, 2, 2, 2, 2, 2, 2, 2, 2, 2, 2, 2, 2, 2, 2, 2, 2, 2, 2, 2, 2, 2, 2, 2, 2, 2, 2, 2, 2, 2, 2, 2, 2, 2, 2, 2, 2, 2, 2, 2, 2, 2, 2, 2, 2, 2, 2, 2, 2, 2, 2, 2, 2, 2, 2, 2, 2, 2, 2, 2, 2, 2, 2, 2, 2, 2, 2, 2, 2, 2, 2, 2, 2, 2, 2, 2, 2, 2, 2, 2, 2, 2, 2, 2, 2, 2, 2, 2, 2, 2, 2, 2, 2, 2, 2, 2, 2, 2, 2, 2, 2, 2, 2, 2, 2, 2, 2, 2, 2, 2, 2, 2, 2, 2, 2, 2, 2, 2, 2, 2, 2, 2, 2, 2, 2, 2, 2, 2, 2, 2, 2, 2, 2, 2, 2, 2, 2, 2, 2, 2, 2, 2, 2, 2, 2, 2, 2, 2, 2, 2, 2, 2, 2, 2, 2, 2, 2, 2, 2, 2, 2, 2, 2, 2, 2, 2, 2, 2, 2, 2, 2, 2, 2, 2, 2, 2, 2, 2, 2, 2, 2, 2, 2, 2, 2, 2, 2, 3, 3, 3, 3, 3, 3, 3, 3, 3, 3, 3, 3, 3, 3, 3, 3, 3, 3, 3, 3, 3, 3, 3, 3, 3, 3, 3, 3, 3, 3, 3, 3, 3, 3, 3, 3, 3, 3, 3, 3, 3, 3, 3, 3, 3, 3, 3, 3, 3, 3, 3, 3, 3, 3, 3, 3, 3, 3, 3, 3, 3, 3, 3, 3, 3, 3, 3, 3, 3, 3, 3, 3, 3, 3, 3, 3, 3, 3, 3, 3, 3, 3, 3, 3, 3, 3, 3, 3, 3, 3, 3, 3, 3, 3, 3, 3, 3, 3, 3, 3, 3, 3, 3, 3, 3, 3, 3, 3, 3, 3, 3, 3, 3, 3, 3, 3, 3, 3, 3, 3, 3, 3, 3, 3, 3, 3, 3, 3, 3, 3, 3, 3, 3, 3, 3, 3, 3, 3, 3, 3, 3, 3, 3, 3, 3, 3, 3, 3, 3, 3, 3, 3, 3, 3, 3, 3, 3, 3, 3, 3, 3, 3, 3, 3, 3, 3, 3, 3, 3, 3, 3, 3, 3, 3, 3, 3, 3, 3, 3, 3, 3, 3, 3, 3, 3, 3, 3, 3, 3, 3, 3, 3, 3, 3, 3, 3, 3, 3, 3, 3, 3, 3, 3, 3, 3, 3, 3, 3, 3, 3, 3, 3, 3, 3, 3, 3, 3, 3, 3, 3, 3, 3, 3, 3, 3, 3, 3, 3, 3, 3, 3, 3, 3, 3, 3, 3, 3, 3, 3, 3, 3, 3, 3, 3, 3, 3, 3, 3, 3, 3, 3, 3, 3, 3, 3, 3, 3, 3, 3, 3, 3, 3, 3, 3, 3, 3, 3, 3, 3, 3, 3, 3, 3, 3, 3, 3, 3, 3, 3, 3, 3, 3, 3, 3, 3, 3, 3, 3, 3, 3, 3, 3, 3, 3, 3, 3, 3, 3, 3, 3, 3, 3, 3, 3, 3, 3, 3, 3, 3, 3, 3, 3, 3, 3, 3, 3, 3, 3, 3, 3, 3, 3, 3, 3, 3, 3, 3, 3, 3, 3, 3, 3, 3, 3, 3, 3, 3, 3, 3, 3, 3, 3, 3, 3, 3, 3, 3, 3, 3, 3, 3, 3, 3, 3, 3, 3, 3, 3, 3, 3, 3, 3, 3, 3, 3, 3, 3, 3, 3, 3, 3, 3, 3, 3, 3, 3, 3, 3, 3, 3, 3, 3, 3, 3, 3, 3, 3, 3, 3, 3, 3, 3, 3, 3, 3, 3, 3, 3, 3, 3, 3, 3, 3, 3, 3, 3, 3, 3, 3, 3, 3, 3, 3, 3, 3, 3, 3, 3, 3, 3, 3, 3, 3, 3, 3, 3, 3, 3, 3, 3, 3, 3, 3, 3, 3, 3, 3, 3, 3, 3, 3, 3, 3, 3, 3, 3, 3, 3, 3, 3, 3, 3, 3, 3, 3, 3, 3, 3, 3, 3, 3, 3, 3, 3, 3, 3, 3, 3, 3, 3, 3, 3, 3, 3, 3, 3, 3, 3, 3, 3, 3, 3, 3, 3, 3, 3, 3, 3, 3, 3, 3, 3, 3, 3, 3, 3, 3, 3, 3, 3, 4, 4, 4, 4, 4, 4, 4, 4, 4, 4, 4, 4, 4, 4, 4, 4, 4, 4, 4, 4, 4, 4, 4, 4, 4, 4, 4, 4, 4, 4, 4, 4, 4, 4, 4, 4, 4, 4, 4, 4, 4, 4, 4, 4, 4, 4, 4, 4, 4, 4, 4, 4, 4, 4, 4, 4, 4, 4, 4, 4, 4, 4, 4, 4, 4, 4, 4, 4, 4, 4, 4, 4, 4, 4, 4, 4, 4, 4, 4, 4, 4, 4, 4, 4, 4, 4, 4, 4, 4, 4, 4, 4, 4, 4, 4, 4, 4, 4, 4, 4, 4, 4, 4, 4, 4, 4, 4, 4, 4, 4, 4, 4, 4, 4, 4, 4, 4, 4, 4, 4, 4, 4, 4, 4, 4, 4, 4, 4, 4, 4, 4, 4, 4, 4, 4, 4, 4, 4, 4, 4, 4, 4, 4, 4, 4, 4, 4, 4, 4, 4, 4, 4, 4, 4, 4, 4, 4, 4, 4, 4, 4, 4, 4, 4, 4, 4, 4, 4, 4, 4, 4, 4, 4, 4, 4, 4, 4, 4, 4, 4, 4, 4, 4, 4, 4, 4, 4, 4, 4, 4, 4, 4, 4, 4, 4, 4, 4, 4, 4, 4, 4, 4, 4, 4, 4, 4, 4, 4, 4, 4, 4, 4, 4, 4, 4, 4, 4, 4, 4, 4, 4, 4, 4, 4, 4, 4, 4, 4, 4, 4, 4, 4, 4, 4, 4, 4, 4, 4, 4, 4, 4, 4, 4, 4, 4, 4, 4, 4, 4, 4, 4, 4, 4, 4, 4, 4, 4, 4, 4, 4, 4, 4, 4, 4, 4, 4, 4, 4, 4, 4, 4, 4, 4, 4, 4, 4, 4, 4, 4, 4, 4, 4, 4, 4, 4, 4, 4, 4, 4, 4, 4, 4, 4, 4, 4, 4, 4, 4, 4, 4, 4, 4, 4, 4, 4, 4, 4, 4, 4, 4, 4, 4, 4, 4, 4, 4, 4, 4, 4, 4, 4, 4, 4, 4, 4, 4, 4, 4, 4, 4, 4, 4, 4, 4, 4, 4, 4, 4, 4, 4, 4, 4, 4, 4, 4, 4, 4, 4, 4, 4, 4, 4, 4, 4, 4, 4, 4, 4, 4, 4, 4, 4, 4, 4, 4, 4, 4, 4, 4, 4, 4, 4, 4, 4, 4, 4, 4, 4, 4, 4, 4, 4, 4, 4, 4, 4, 4, 4, 4, 4, 4, 4, 4, 4, 4, 4, 4, 4, 4, 4, 4, 4, 4, 4, 4, 4, 4, 4, 4, 4, 4, 4, 4, 4, 4, 4, 4, 4, 4, 4, 4, 4, 4, 4, 4, 4, 4, 4, 4, 4, 4, 4, 4, 4, 4, 4, 4, 4, 4, 4, 4, 4, 4, 4, 4, 4, 4, 4, 4, 4, 4, 4, 4, 4, 4, 4, 4, 4, 4, 4, 4, 4, 4, 4, 4, 4, 4, 4, 4, 4, 4, 4, 4, 4, 4, 4, 4, 4, 4, 4, 4, 4, 4, 4, 4, 4, 4, 4, 4, 4, 4, 4, 4, 4, 4, 4, 4, 4, 4, 4]\n"
     ]
    }
   ],
   "source": [
    "print((Actual))"
   ]
  },
  {
   "cell_type": "code",
   "execution_count": 190,
   "metadata": {},
   "outputs": [
    {
     "name": "stdout",
     "output_type": "stream",
     "text": [
      "[423.  29.  20.  22.   6.]\n",
      "[ 32. 404.  45.  11.   8.]\n",
      "[ 57.  25. 355.  42.  21.]\n",
      "[ 35.   4.  31. 425.   5.]\n",
      "[ 16.  20.  31.  27. 406.]\n"
     ]
    },
    {
     "data": {
      "text/plain": [
       "<matplotlib.axes._subplots.AxesSubplot at 0x1b41812a6d8>"
      ]
     },
     "execution_count": 190,
     "metadata": {},
     "output_type": "execute_result"
    },
    {
     "data": {
      "image/png": "[encoded data removed]",
      "text/plain": [
       "<Figure size 432x288 with 2 Axes>"
      ]
     },
     "metadata": {
      "needs_background": "light"
     },
     "output_type": "display_data"
    }
   ],
   "source": [
    "import seaborn as sns\n",
    "import numpy as np\n",
    "def ConfusionMatrix(Predicted,Actual):\n",
    "    confusion_matrix=np.zeros((5,5))\n",
    "    for i in range(len(Actual)):\n",
    "        confusion_matrix[int(Actual[i])][int(Predicted[i])]=(confusion_matrix[int(Actual[i])][int(Predicted[i])])+1\n",
    "    return confusion_matrix\n",
    "confusion_matrix=ConfusionMatrix(Predicted_label1,Actual)\n",
    "for i in range(len(confusion_matrix)):\n",
    "    print(confusion_matrix[i])\n",
    "sns.heatmap(confusion_matrix,annot=True)"
   ]
  },
  {
   "cell_type": "code",
   "execution_count": null,
   "metadata": {},
   "outputs": [],
   "source": []
  }
 ],
 "metadata": {
  "kernelspec": {
   "display_name": "Python 3",
   "language": "python",
   "name": "python3"
  },
  "language_info": {
   "codemirror_mode": {
    "name": "ipython",
    "version": 3
   },
   "file_extension": ".py",
   "mimetype": "text/x-python",
   "name": "python",
   "nbconvert_exporter": "python",
   "pygments_lexer": "ipython3",
   "version": "3.7.0"
  }
 },
 "nbformat": 4,
 "nbformat_minor": 2
}
